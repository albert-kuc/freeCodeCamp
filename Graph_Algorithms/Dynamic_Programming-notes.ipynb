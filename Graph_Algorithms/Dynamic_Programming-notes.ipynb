{
 "cells": [
  {
   "cell_type": "markdown",
   "id": "ebe03764",
   "metadata": {},
   "source": [
    "# Dynamic Programming\n",
    "Based on [Dynamic Programming - Learn to Solve Algorithmic Problems & Coding Challenges](https://youtu.be/oBt53YbR9Kk)"
   ]
  },
  {
   "cell_type": "markdown",
   "id": "15b8bc0a",
   "metadata": {},
   "source": [
    "## fib memoization\n",
    "\n",
    "Write a function **fib(n)** that takes in a number as an argument.<br>\n",
    "The function should return the n-th number of the Fibonacci sequence.\n",
    "\n",
    "The 1st and 2nd number of the sequence is 1.\n",
    "To generate the next number of the sequence, we sum the previous two.\n",
    "\n",
    "1, 1, 2, 3, 5, 8, 13, 21, 34, ..."
   ]
  },
  {
   "cell_type": "code",
   "execution_count": 1,
   "id": "cb4e7007",
   "metadata": {},
   "outputs": [],
   "source": [
    "def fib(num, memo={}):\n",
    "    # use memorization to avoid repeated calculation during recursion, by storing already known results in a dictionary\n",
    "    if num <= 2:\n",
    "        return 1\n",
    "    if num in memo:\n",
    "        return memo[num]\n",
    "    memo[num] = fib(num-1, memo) + fib(num-2, memo)\n",
    "    return memo[num]"
   ]
  },
  {
   "cell_type": "code",
   "execution_count": 2,
   "id": "5c40e31c",
   "metadata": {},
   "outputs": [
    {
     "data": {
      "text/plain": [
       "(1, 1, 2, 3, 5, 8, 13, 21, 34)"
      ]
     },
     "execution_count": 2,
     "metadata": {},
     "output_type": "execute_result"
    }
   ],
   "source": [
    "fib(1), fib(2), fib(3), fib(4), fib(5), fib(6), fib(7), fib(8), fib(9)"
   ]
  },
  {
   "cell_type": "code",
   "execution_count": 3,
   "id": "3c824aa8",
   "metadata": {},
   "outputs": [
    {
     "data": {
      "text/plain": [
       "139423224561697880139724382870407283950070256587697307264108962948325571622863290691557658876222521294125"
      ]
     },
     "execution_count": 3,
     "metadata": {},
     "output_type": "execute_result"
    }
   ],
   "source": [
    "fib(500)"
   ]
  },
  {
   "cell_type": "markdown",
   "id": "786e967c",
   "metadata": {},
   "source": [
    "## grid_traveler memoization\n",
    "\n",
    "Say that you are a traveler on a 2D grid. You begin in the top-left corner and your goal is to travel to the botton-right corner. You may only move down or right.\n",
    "\n",
    "In how many ways you can travel the goal on a grid with dimensions **m** * **n**?"
   ]
  },
  {
   "cell_type": "raw",
   "id": "fbf239b9",
   "metadata": {},
   "source": [
    "Example:\n",
    "\n",
    "grid_traveler(2, 3) -> 3\n",
    "\n",
    "|S| | |\n",
    "| | |E|\n",
    "\n",
    "Travel options:\n",
    "1. right, right, down\n",
    "2. right, down, right\n",
    "3. down, right, right"
   ]
  },
  {
   "cell_type": "raw",
   "id": "5419b807",
   "metadata": {},
   "source": [
    "Assumptions:\n",
    "\n",
    "grid_traveler(1, 1) -> 1 (do nothing)\n",
    "\n",
    "grid_traveler(0, 1) -> 0 (if any element is 0 than return 0)"
   ]
  },
  {
   "cell_type": "code",
   "execution_count": 4,
   "id": "bee25b62",
   "metadata": {},
   "outputs": [],
   "source": [
    "def grid_traveler(m, n, memo={}):\n",
    "    # by moving down or right the grid available is being reduced\n",
    "    key_ = f'{m},{n}'\n",
    "    \n",
    "    if key_ in memo:\n",
    "        return memo[key_]\n",
    "    \n",
    "    if m == 1 & n == 1:\n",
    "        return 1\n",
    "    if (m == 0) | (n == 0):\n",
    "        return 0\n",
    "    \n",
    "    memo[key_] = grid_traveler(m-1, n, memo) + grid_traveler(m, n-1, memo)\n",
    "    return memo[key_]"
   ]
  },
  {
   "cell_type": "code",
   "execution_count": 5,
   "id": "c143b521",
   "metadata": {},
   "outputs": [
    {
     "data": {
      "text/plain": [
       "1"
      ]
     },
     "execution_count": 5,
     "metadata": {},
     "output_type": "execute_result"
    }
   ],
   "source": [
    "grid_traveler(1, 2)"
   ]
  },
  {
   "cell_type": "code",
   "execution_count": 6,
   "id": "4bf9a4ab",
   "metadata": {},
   "outputs": [
    {
     "data": {
      "text/plain": [
       "2"
      ]
     },
     "execution_count": 6,
     "metadata": {},
     "output_type": "execute_result"
    }
   ],
   "source": [
    "grid_traveler(2, 2)"
   ]
  },
  {
   "cell_type": "code",
   "execution_count": 7,
   "id": "1c3b51ee",
   "metadata": {},
   "outputs": [
    {
     "data": {
      "text/plain": [
       "3"
      ]
     },
     "execution_count": 7,
     "metadata": {},
     "output_type": "execute_result"
    }
   ],
   "source": [
    "grid_traveler(2, 3)"
   ]
  },
  {
   "cell_type": "code",
   "execution_count": 8,
   "id": "94bd69b1",
   "metadata": {},
   "outputs": [
    {
     "data": {
      "text/plain": [
       "3"
      ]
     },
     "execution_count": 8,
     "metadata": {},
     "output_type": "execute_result"
    }
   ],
   "source": [
    "grid_traveler(3, 2)"
   ]
  },
  {
   "cell_type": "code",
   "execution_count": 9,
   "id": "999696e9",
   "metadata": {},
   "outputs": [
    {
     "data": {
      "text/plain": [
       "6"
      ]
     },
     "execution_count": 9,
     "metadata": {},
     "output_type": "execute_result"
    }
   ],
   "source": [
    "grid_traveler(3, 3)"
   ]
  },
  {
   "cell_type": "code",
   "execution_count": 10,
   "id": "bfbcaa7b",
   "metadata": {},
   "outputs": [
    {
     "data": {
      "text/plain": [
       "2333606220"
      ]
     },
     "execution_count": 10,
     "metadata": {},
     "output_type": "execute_result"
    }
   ],
   "source": [
    "grid_traveler(18, 18)"
   ]
  },
  {
   "cell_type": "markdown",
   "id": "49605ca6",
   "metadata": {},
   "source": [
    "## can_sum memoization\n",
    "\n",
    "Write a function that takes in a *target_sum* and an *array of numbers* as arguments.\n",
    "\n",
    "The function should return a boolean indicating whether or not it is possible to generate the *tartget_sum* using numbers from the array.\n",
    "\n",
    "You may use an element of the array as many times as needed.\n",
    "\n",
    "You may assume that all input numbers are nonnegative."
   ]
  },
  {
   "cell_type": "raw",
   "id": "b35d4683",
   "metadata": {},
   "source": [
    "Assumptions:\n",
    "\n",
    "can_sum(7, [5, 3, 4, 7]) -> True\n",
    "can_sum(7, [2, 4]) -> False"
   ]
  },
  {
   "cell_type": "code",
   "execution_count": 11,
   "id": "e7ce91ed",
   "metadata": {},
   "outputs": [],
   "source": [
    "def can_sum(target_sum, numbers, memo=None):\n",
    "    if memo is None:\n",
    "        memo = {}\n",
    "    if target_sum in memo:\n",
    "        return memo[target_sum]\n",
    "    if target_sum == 0:\n",
    "        return True\n",
    "    if target_sum < 0:\n",
    "        return False\n",
    "    \n",
    "    for num in numbers:\n",
    "        remainder = target_sum - num\n",
    "        if can_sum(remainder, numbers, memo):\n",
    "            memo[target_sum] = True\n",
    "            return True\n",
    "    \n",
    "    memo[target_sum] = False\n",
    "    return False"
   ]
  },
  {
   "cell_type": "code",
   "execution_count": 12,
   "id": "d70c453e",
   "metadata": {},
   "outputs": [
    {
     "name": "stdout",
     "output_type": "stream",
     "text": [
      "True\n",
      "True\n",
      "False\n",
      "True\n",
      "False\n"
     ]
    }
   ],
   "source": [
    "print(can_sum(7, [2, 3]))  # true\n",
    "print(can_sum(7, [5, 3, 4, 7]))  # true\n",
    "print(can_sum(7, [2, 4]))  # false\n",
    "print(can_sum(8, [2, 3, 5]))  # true\n",
    "print(can_sum(300, [7, 14]))  # false"
   ]
  },
  {
   "cell_type": "markdown",
   "id": "21d5d951",
   "metadata": {},
   "source": [
    "## how_sum memoization\n",
    "\n",
    "Write a function how_sum(target_sum, numbers) that takes in a target_sum and an array of numbers as arguments.\n",
    "\n",
    "The function should return an array containing any combination of elements that add up to exactly the target_sum. It there is no combination that adds up to the target_sum, then return null.\n",
    "\n",
    "If there are multiple combinations possible, you may return any single one."
   ]
  },
  {
   "cell_type": "raw",
   "id": "dc4dad66",
   "metadata": {},
   "source": [
    "Examples:\n",
    "how_sum(7, [5, 3, 4, 7]) -> [3, 4]\n",
    "how_sum(7, [5, 3, 4, 7]) -> [7]\n",
    "how_sum(8, [2, 3, 5]) -> [2, 2, 2, 2]\n",
    "how_sum(8, [2, 3, 5]) -> [3, 5]\n",
    "how_sum(7, [2, 4]) -> null\n",
    "\n",
    "Assumptions:\n",
    "how_sum(0, [1, 2, 3]) -> []"
   ]
  },
  {
   "cell_type": "code",
   "execution_count": 13,
   "id": "e21f7eb3",
   "metadata": {},
   "outputs": [],
   "source": [
    "def how_sum(target_sum, numbers, memo=None):\n",
    "    if memo is None:\n",
    "        memo = {}\n",
    "    if target_sum in memo:\n",
    "        return memo[target_sum]\n",
    "    if target_sum == 0:\n",
    "        return []\n",
    "    if target_sum < 0:\n",
    "        return None\n",
    "    \n",
    "    for num in numbers:\n",
    "        remainder = target_sum - num\n",
    "        remainder_result = how_sum(remainder, numbers, memo)\n",
    "        if remainder_result is not None:\n",
    "            remainder_result.append(num)\n",
    "            memo[target_sum] = remainder_result\n",
    "            return memo[target_sum]\n",
    "    \n",
    "    memo[target_sum] = None\n",
    "    return None"
   ]
  },
  {
   "cell_type": "code",
   "execution_count": 14,
   "id": "1bbef13c",
   "metadata": {},
   "outputs": [
    {
     "name": "stdout",
     "output_type": "stream",
     "text": [
      "[3, 2, 2]\n"
     ]
    }
   ],
   "source": [
    "print(how_sum(7, [2, 3]))"
   ]
  },
  {
   "cell_type": "code",
   "execution_count": 15,
   "id": "45685c3d",
   "metadata": {},
   "outputs": [
    {
     "name": "stdout",
     "output_type": "stream",
     "text": [
      "[4, 3]\n"
     ]
    }
   ],
   "source": [
    "print(how_sum(7, [5, 3, 4, 7]))"
   ]
  },
  {
   "cell_type": "code",
   "execution_count": 16,
   "id": "ba72bc82",
   "metadata": {},
   "outputs": [
    {
     "name": "stdout",
     "output_type": "stream",
     "text": [
      "None\n"
     ]
    }
   ],
   "source": [
    "print(how_sum(7, [2, 4]))"
   ]
  },
  {
   "cell_type": "code",
   "execution_count": 17,
   "id": "37fbc04a",
   "metadata": {},
   "outputs": [
    {
     "name": "stdout",
     "output_type": "stream",
     "text": [
      "[2, 2, 2, 2]\n"
     ]
    }
   ],
   "source": [
    "print(how_sum(8, [2, 3, 5]))"
   ]
  },
  {
   "cell_type": "code",
   "execution_count": 18,
   "id": "1067e3d8",
   "metadata": {},
   "outputs": [
    {
     "name": "stdout",
     "output_type": "stream",
     "text": [
      "None\n"
     ]
    }
   ],
   "source": [
    "print(how_sum(300, [7, 14]))"
   ]
  },
  {
   "cell_type": "markdown",
   "id": "af46c102",
   "metadata": {},
   "source": [
    "## best_sum memoization\n",
    "\n",
    "Write a function best_sum(target_sum, numbers) that takes in a target_sum and an array of numbers as arguments.\n",
    "\n",
    "The function should return an array containing the **shortest** combination of numbers that add up to exactly the target_sum.\n",
    "\n",
    "If there is a tie for the shortest combination, you may return any one of the shortest"
   ]
  },
  {
   "cell_type": "raw",
   "id": "8a760ca9",
   "metadata": {},
   "source": [
    "Example:\n",
    "best_sum(7, [5, 3, 4, 7]) -> [[3, 4], [7]] -> 7\n",
    "best_sum(8, [2, 3, 5]) -> [[2, 2, 2, 2], [2, 3, 3], [3, 5]] -> [3, 5]"
   ]
  },
  {
   "cell_type": "code",
   "execution_count": 19,
   "id": "2ec8f52d",
   "metadata": {},
   "outputs": [],
   "source": [
    "def best_sum(target_sum, numbers, memo=None):\n",
    "    if memo is None:\n",
    "        memo = {}\n",
    "    if target_sum in memo:\n",
    "        return memo[target_sum]\n",
    "    if target_sum == 0:\n",
    "        return []\n",
    "    if target_sum < 0:\n",
    "        return None\n",
    "    shortest_sum = None\n",
    "    \n",
    "    for num in numbers:\n",
    "        remainder = target_sum - num\n",
    "        remainder_combination = best_sum(remainder, numbers, memo)\n",
    "        if remainder_combination is not None:\n",
    "            combination = remainder_combination.copy()\n",
    "            combination.append(num)\n",
    "            if shortest_sum is None:\n",
    "                shortest_sum = combination\n",
    "            if len(combination) < len(shortest_sum):\n",
    "                shortest_sum = combination\n",
    "    \n",
    "    memo[target_sum] = shortest_sum\n",
    "    return shortest_sum"
   ]
  },
  {
   "cell_type": "code",
   "execution_count": 20,
   "id": "9d26a213",
   "metadata": {},
   "outputs": [
    {
     "name": "stdout",
     "output_type": "stream",
     "text": [
      "[7]\n",
      "[5, 3]\n",
      "[4, 4]\n",
      "[25, 25, 25, 25]\n"
     ]
    }
   ],
   "source": [
    "print(best_sum(7, [5, 3, 4, 7]))  # [7]\n",
    "print(best_sum(8, [2, 3, 5]))  # [3, 5]\n",
    "print(best_sum(8, [1, 4, 5]))  # [4, 4]\n",
    "print(best_sum(100, [1, 2, 5, 25]))  # [25, 25, 25, 25]"
   ]
  },
  {
   "cell_type": "markdown",
   "id": "540106f5",
   "metadata": {},
   "source": [
    "## can_construct memoization\n",
    "\n",
    "Write a function **can_construct(target, word_bank)** that accepts a target string and an array of strings.\n",
    "\n",
    "The function should return a boolean indicationg whether or not the **target** can be constructed by concatenating elements of the **word_bank** array.\n",
    "\n",
    "You may reuse elements of **word_bank** as many times as needed."
   ]
  },
  {
   "cell_type": "raw",
   "id": "a25882f6",
   "metadata": {},
   "source": [
    "can_construct(abcdef, [ab, abc, cd, def, abcd]) -> abc+def -> True\n",
    "can_construct('', [cat, dog, mouse]) -> True"
   ]
  },
  {
   "cell_type": "code",
   "execution_count": 21,
   "id": "06ab4b7b",
   "metadata": {},
   "outputs": [],
   "source": [
    "def can_construct(target, word_bank, memo=None):\n",
    "    if memo is None:\n",
    "        memo = dict()\n",
    "    if target in memo:\n",
    "        return memo[target]\n",
    "    \n",
    "    if target == \"\":\n",
    "        return True\n",
    "    \n",
    "    for word in word_bank:\n",
    "        if target.startswith(word):\n",
    "            # remove word from beginning of target\n",
    "            suffix = target[len(word):]\n",
    "            if can_construct(suffix, word_bank, memo):\n",
    "                memo[target] = True\n",
    "                return True\n",
    "    \n",
    "    memo[target] = False\n",
    "    return False"
   ]
  },
  {
   "cell_type": "code",
   "execution_count": 22,
   "id": "96234d02",
   "metadata": {},
   "outputs": [
    {
     "data": {
      "text/plain": [
       "True"
      ]
     },
     "execution_count": 22,
     "metadata": {},
     "output_type": "execute_result"
    }
   ],
   "source": [
    "can_construct('abcdef', ['ab', 'abc', 'cd', 'def', 'abcd'])  # True"
   ]
  },
  {
   "cell_type": "code",
   "execution_count": 23,
   "id": "71fd54cc",
   "metadata": {},
   "outputs": [
    {
     "data": {
      "text/plain": [
       "False"
      ]
     },
     "execution_count": 23,
     "metadata": {},
     "output_type": "execute_result"
    }
   ],
   "source": [
    "can_construct('skateboard', ['bo', 'rd', 'ate', 't', 'ska', 'sk', 'boar'])  # False"
   ]
  },
  {
   "cell_type": "code",
   "execution_count": 24,
   "id": "2da3291d",
   "metadata": {},
   "outputs": [
    {
     "data": {
      "text/plain": [
       "True"
      ]
     },
     "execution_count": 24,
     "metadata": {},
     "output_type": "execute_result"
    }
   ],
   "source": [
    "can_construct('enterapotentpot', ['a', 'p', 'ent', 'enter', 'ot', 'o', 't'])  # True"
   ]
  },
  {
   "cell_type": "code",
   "execution_count": 25,
   "id": "9cd771fe",
   "metadata": {},
   "outputs": [
    {
     "data": {
      "text/plain": [
       "False"
      ]
     },
     "execution_count": 25,
     "metadata": {},
     "output_type": "execute_result"
    }
   ],
   "source": [
    "can_construct('eeeeeeeeeeeeeeeeeeeeeeeeeeeeeeeeeeeeeef', ['e', 'ee', 'eee', 'eeee', 'eeeee', 'eeeeee']) # False"
   ]
  },
  {
   "cell_type": "markdown",
   "id": "2bac0362",
   "metadata": {},
   "source": [
    "## count_construct memoization\n",
    "\n",
    "Write a function **count_construct(target, word_bank)** that accepts a target string and an array of strings.\n",
    "\n",
    "The function should return the **number of ways** that the target can be constructed by concatenating elements of the **word_bank** array.\n",
    "\n",
    "You may reuse elements of **word_bank** as many times as needed."
   ]
  },
  {
   "cell_type": "code",
   "execution_count": 26,
   "id": "5b522056",
   "metadata": {},
   "outputs": [],
   "source": [
    "def count_construct(target, word_bank, memo=None):\n",
    "    if memo is None:\n",
    "        memo = dict()\n",
    "    if target in memo:\n",
    "        return memo[target]\n",
    "    \n",
    "    if target == '':\n",
    "        return 1\n",
    "    \n",
    "    total_count = 0\n",
    "    for word in word_bank:\n",
    "        if target.startswith(word):\n",
    "            suffix = target[len(word):]\n",
    "            total_count += count_construct(suffix, word_bank, memo)\n",
    "    \n",
    "    memo[target] = total_count\n",
    "    return total_count"
   ]
  },
  {
   "cell_type": "code",
   "execution_count": 27,
   "id": "d3a85cb3",
   "metadata": {},
   "outputs": [
    {
     "data": {
      "text/plain": [
       "1"
      ]
     },
     "execution_count": 27,
     "metadata": {},
     "output_type": "execute_result"
    }
   ],
   "source": [
    "count_construct('abcdef', ['ab', 'abc', 'cd', 'def', 'abcd'])  # 1"
   ]
  },
  {
   "cell_type": "code",
   "execution_count": 28,
   "id": "c0576283",
   "metadata": {},
   "outputs": [
    {
     "data": {
      "text/plain": [
       "2"
      ]
     },
     "execution_count": 28,
     "metadata": {},
     "output_type": "execute_result"
    }
   ],
   "source": [
    "count_construct('purple', ['purp', 'p', 'ur', 'le', 'purpl'])  # 2"
   ]
  },
  {
   "cell_type": "code",
   "execution_count": 29,
   "id": "4e63fb32",
   "metadata": {},
   "outputs": [
    {
     "data": {
      "text/plain": [
       "0"
      ]
     },
     "execution_count": 29,
     "metadata": {},
     "output_type": "execute_result"
    }
   ],
   "source": [
    "count_construct('skateboard', ['bo', 'rd', 'ate', 't', 'ska', 'sk', 'boar'])  # 0"
   ]
  },
  {
   "cell_type": "code",
   "execution_count": 30,
   "id": "67186dfa",
   "metadata": {},
   "outputs": [
    {
     "data": {
      "text/plain": [
       "4"
      ]
     },
     "execution_count": 30,
     "metadata": {},
     "output_type": "execute_result"
    }
   ],
   "source": [
    "count_construct('enterapotentpot', ['a', 'p', 'ent', 'enter', 'ot', 'o', 't'])  # 4"
   ]
  },
  {
   "cell_type": "code",
   "execution_count": 31,
   "id": "ffc3ba02",
   "metadata": {},
   "outputs": [
    {
     "data": {
      "text/plain": [
       "0"
      ]
     },
     "execution_count": 31,
     "metadata": {},
     "output_type": "execute_result"
    }
   ],
   "source": [
    "count_construct('eeeeeeeeeeeeeeeeeeeeeeeeeeeeeeeeeeeeeef', ['e', 'ee', 'eee', 'eeee', 'eeeee', 'eeeeee']) # 0"
   ]
  },
  {
   "cell_type": "markdown",
   "id": "428cb6c5",
   "metadata": {},
   "source": [
    "## all_construct memoization\n",
    "\n",
    "Write a function **all_construct(target, word_bank)** that accepts a target string and an array of strings.\n",
    "\n",
    "The function should return a 2D array containing **all of the ways** that the **target** can be constructed by concatenating elements of the **word_bank** array. Each element of the 2D array should represent one combination that constructs the **target**.\n",
    "\n",
    "You may reuse elements of **word_bank** as many times as needed."
   ]
  },
  {
   "cell_type": "raw",
   "id": "1fed01c0",
   "metadata": {},
   "source": [
    "all_construct('purple', ['purp', 'p', 'ur', 'le', 'purpl']) ->\n",
    "\n",
    "  [\n",
    "   ['purp', 'le'],\n",
    "   ['p', 'ur', 'p', 'le']\n",
    "  ]\n",
    "  \n",
    "all_construct('abcdef', ['ab', 'abc', 'cd', 'def', 'abcd', 'ef', 'c']) ->\n",
    "\n",
    "  [\n",
    "   ['ab', 'cd', 'ef'],\n",
    "   ['ab', 'c', 'def'],\n",
    "   ['abc', 'def'],\n",
    "   ['abcd', 'ef']\n",
    "  ]\n",
    "  \n",
    "all_construct('hello', ['cat', 'dog', 'mouse']) -> []\n",
    "\n",
    "all_construct('', ['cat', 'dog', 'mouse']) -> [[]]"
   ]
  },
  {
   "cell_type": "code",
   "execution_count": 32,
   "id": "95467bdf",
   "metadata": {},
   "outputs": [],
   "source": [
    "def all_construct(target, word_bank, memo=None):\n",
    "    if memo is None:\n",
    "        memo = {}\n",
    "    if target in memo:\n",
    "        return memo[target]\n",
    "    \n",
    "    if target == '':\n",
    "        return [[]]\n",
    "    \n",
    "    collection = []\n",
    "    for word in word_bank:\n",
    "        if target.startswith(word):\n",
    "            suffix = target[len(word):]\n",
    "            suffix_ways = all_construct(suffix, word_bank, memo)\n",
    "            target_ways = [[word] + ways for ways in suffix_ways]\n",
    "            collection += target_ways\n",
    "    \n",
    "    memo[target] = collection\n",
    "    return collection"
   ]
  },
  {
   "cell_type": "code",
   "execution_count": 33,
   "id": "e96bce50",
   "metadata": {},
   "outputs": [
    {
     "data": {
      "text/plain": [
       "[['purp', 'le'], ['p', 'ur', 'p', 'le']]"
      ]
     },
     "execution_count": 33,
     "metadata": {},
     "output_type": "execute_result"
    }
   ],
   "source": [
    "all_construct('purple', ['purp', 'p', 'ur', 'le', 'purpl'])"
   ]
  },
  {
   "cell_type": "code",
   "execution_count": 34,
   "id": "10ada5a3",
   "metadata": {},
   "outputs": [
    {
     "data": {
      "text/plain": [
       "[['ab', 'cd', 'ef'], ['ab', 'c', 'def'], ['abc', 'def'], ['abcd', 'ef']]"
      ]
     },
     "execution_count": 34,
     "metadata": {},
     "output_type": "execute_result"
    }
   ],
   "source": [
    "all_construct('abcdef', ['ab', 'abc', 'cd', 'def', 'abcd', 'ef', 'c'])"
   ]
  },
  {
   "cell_type": "code",
   "execution_count": 35,
   "id": "6407b438",
   "metadata": {},
   "outputs": [
    {
     "data": {
      "text/plain": [
       "[]"
      ]
     },
     "execution_count": 35,
     "metadata": {},
     "output_type": "execute_result"
    }
   ],
   "source": [
    "all_construct('skateboard', ['bo', 'rd', 'ate', 't', 'ska', 'sk', 'boar'])  # 0"
   ]
  },
  {
   "cell_type": "code",
   "execution_count": 36,
   "id": "dc728c63",
   "metadata": {},
   "outputs": [
    {
     "data": {
      "text/plain": [
       "[]"
      ]
     },
     "execution_count": 36,
     "metadata": {},
     "output_type": "execute_result"
    }
   ],
   "source": [
    "all_construct('eeeeeeeeeeeeeeeeeeeeeeeeeeeeeeeeeeeeeef', ['e', 'ee', 'eee', 'eeee', 'eeeee', 'eeeeee']) # 0"
   ]
  },
  {
   "cell_type": "code",
   "execution_count": null,
   "id": "e6450dd5",
   "metadata": {},
   "outputs": [],
   "source": []
  }
 ],
 "metadata": {
  "kernelspec": {
   "display_name": "Python 3",
   "language": "python",
   "name": "python3"
  },
  "language_info": {
   "codemirror_mode": {
    "name": "ipython",
    "version": 3
   },
   "file_extension": ".py",
   "mimetype": "text/x-python",
   "name": "python",
   "nbconvert_exporter": "python",
   "pygments_lexer": "ipython3",
   "version": "3.9.5"
  }
 },
 "nbformat": 4,
 "nbformat_minor": 5
}
