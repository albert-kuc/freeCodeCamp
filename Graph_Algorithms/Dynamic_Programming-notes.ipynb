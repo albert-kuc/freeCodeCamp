{
 "cells": [
  {
   "cell_type": "markdown",
   "id": "ebe03764",
   "metadata": {},
   "source": [
    "# Dynamic Programming\n",
    "Based on [Dynamic Programming - Learn to Solve Algorithmic Problems & Coding Challenges](https://youtu.be/oBt53YbR9Kk)"
   ]
  },
  {
   "cell_type": "markdown",
   "id": "15b8bc0a",
   "metadata": {},
   "source": [
    "## fib memoization\n",
    "\n",
    "Write a function **fib(n)** that takes in a number as an argument.<br>\n",
    "The function should return the n-th number of the Fibonacci sequence.\n",
    "\n",
    "The 1st and 2nd number of the sequence is 1.\n",
    "To generate the next number of the sequence, we sum the previous two.\n",
    "\n",
    "1, 1, 2, 3, 5, 8, 13, 21, 34, ..."
   ]
  },
  {
   "cell_type": "code",
   "execution_count": 1,
   "id": "cb4e7007",
   "metadata": {},
   "outputs": [],
   "source": [
    "def fib(num, memo={}):\n",
    "    # use memorization to avoid repeated calculation during recursion, by storing already known results in a dictionary\n",
    "    if num <= 2:\n",
    "        return 1\n",
    "    if num in memo:\n",
    "        return memo[num]\n",
    "    memo[num] = fib(num-1, memo) + fib(num-2, memo)\n",
    "    return memo[num]"
   ]
  },
  {
   "cell_type": "code",
   "execution_count": 2,
   "id": "5c40e31c",
   "metadata": {},
   "outputs": [
    {
     "data": {
      "text/plain": [
       "(1, 1, 2, 3, 5, 8, 13, 21, 34)"
      ]
     },
     "execution_count": 2,
     "metadata": {},
     "output_type": "execute_result"
    }
   ],
   "source": [
    "fib(1), fib(2), fib(3), fib(4), fib(5), fib(6), fib(7), fib(8), fib(9)"
   ]
  },
  {
   "cell_type": "code",
   "execution_count": 3,
   "id": "3c824aa8",
   "metadata": {},
   "outputs": [
    {
     "data": {
      "text/plain": [
       "139423224561697880139724382870407283950070256587697307264108962948325571622863290691557658876222521294125"
      ]
     },
     "execution_count": 3,
     "metadata": {},
     "output_type": "execute_result"
    }
   ],
   "source": [
    "fib(500)"
   ]
  },
  {
   "cell_type": "markdown",
   "id": "786e967c",
   "metadata": {},
   "source": [
    "## grid_traveler memoization\n",
    "\n",
    "Say that you are a traveler on a 2D grid. You begin in the top-left corner and your goal is to travel to the botton-right corner. You may only move down or right.\n",
    "\n",
    "In how many ways you can travel the goal on a grid with dimensions **m** * **n**?\n",
    "\n",
    "###### Example:\n",
    "grid_traveler(2, 3) -> 3"
   ]
  },
  {
   "cell_type": "raw",
   "id": "fbf239b9",
   "metadata": {},
   "source": [
    "|S| | |\n",
    "| | |E|\n",
    "\n",
    "Travel options:\n",
    "1. right, right, down\n",
    "2. right, down, right\n",
    "3. down, right, right"
   ]
  },
  {
   "cell_type": "raw",
   "id": "5419b807",
   "metadata": {},
   "source": [
    "grid_traveler(1, 1) -> 1 (do nothing)\n",
    "\n",
    "grid_traveler(0, 1) -> 0 "
   ]
  },
  {
   "cell_type": "code",
   "execution_count": 4,
   "id": "bee25b62",
   "metadata": {},
   "outputs": [],
   "source": [
    "def grid_traveler(m, n, memo={}):\n",
    "    # by moving down or right the grid available is being reduced\n",
    "    key_ = f'{m},{n}'\n",
    "    \n",
    "    if key_ in memo:\n",
    "        return memo[key_]\n",
    "    \n",
    "    if m == 1 & n == 1:\n",
    "        return 1\n",
    "    if (m == 0) | (n == 0):\n",
    "        return 0\n",
    "    \n",
    "    memo[key_] = grid_traveler(m-1, n, memo) + grid_traveler(m, n-1, memo)\n",
    "    return memo[key_]"
   ]
  },
  {
   "cell_type": "code",
   "execution_count": 5,
   "id": "c143b521",
   "metadata": {},
   "outputs": [
    {
     "data": {
      "text/plain": [
       "1"
      ]
     },
     "execution_count": 5,
     "metadata": {},
     "output_type": "execute_result"
    }
   ],
   "source": [
    "grid_traveler(1, 2)"
   ]
  },
  {
   "cell_type": "code",
   "execution_count": 6,
   "id": "4bf9a4ab",
   "metadata": {},
   "outputs": [
    {
     "data": {
      "text/plain": [
       "2"
      ]
     },
     "execution_count": 6,
     "metadata": {},
     "output_type": "execute_result"
    }
   ],
   "source": [
    "grid_traveler(2, 2)"
   ]
  },
  {
   "cell_type": "code",
   "execution_count": 7,
   "id": "1c3b51ee",
   "metadata": {},
   "outputs": [
    {
     "data": {
      "text/plain": [
       "3"
      ]
     },
     "execution_count": 7,
     "metadata": {},
     "output_type": "execute_result"
    }
   ],
   "source": [
    "grid_traveler(2, 3)"
   ]
  },
  {
   "cell_type": "code",
   "execution_count": 8,
   "id": "94bd69b1",
   "metadata": {},
   "outputs": [
    {
     "data": {
      "text/plain": [
       "3"
      ]
     },
     "execution_count": 8,
     "metadata": {},
     "output_type": "execute_result"
    }
   ],
   "source": [
    "grid_traveler(3, 2)"
   ]
  },
  {
   "cell_type": "code",
   "execution_count": 9,
   "id": "999696e9",
   "metadata": {},
   "outputs": [
    {
     "data": {
      "text/plain": [
       "6"
      ]
     },
     "execution_count": 9,
     "metadata": {},
     "output_type": "execute_result"
    }
   ],
   "source": [
    "grid_traveler(3, 3)"
   ]
  },
  {
   "cell_type": "code",
   "execution_count": 10,
   "id": "bfbcaa7b",
   "metadata": {},
   "outputs": [
    {
     "data": {
      "text/plain": [
       "2333606220"
      ]
     },
     "execution_count": 10,
     "metadata": {},
     "output_type": "execute_result"
    }
   ],
   "source": [
    "grid_traveler(18, 18)"
   ]
  },
  {
   "cell_type": "markdown",
   "id": "49605ca6",
   "metadata": {},
   "source": [
    "## can_sum memoization\n",
    "\n",
    "Write a function that takes in a *target_sum* and an *array of numbers* as arguments.\n",
    "\n",
    "The function should return a boolean indicating whether or not it is possible to generate the *tartget_sum* using numbers from the array.\n",
    "\n",
    "You may use an element of the array as many times as needed.\n",
    "\n",
    "You may assume that all input numbers are nonnegative."
   ]
  },
  {
   "cell_type": "code",
   "execution_count": 11,
   "id": "e7ce91ed",
   "metadata": {},
   "outputs": [],
   "source": [
    "def can_sum(target_sum, numbers, memo=None):\n",
    "    if memo is None:\n",
    "        memo = {}\n",
    "    if target_sum in memo:\n",
    "        return memo[target_sum]\n",
    "    if target_sum == 0:\n",
    "        return True\n",
    "    if target_sum < 0:\n",
    "        return False\n",
    "    \n",
    "    for num in numbers:\n",
    "        remainder = target_sum - num\n",
    "        if can_sum(remainder, numbers, memo):\n",
    "            memo[target_sum] = True\n",
    "            return True\n",
    "    \n",
    "    memo[target_sum] = False\n",
    "    return False"
   ]
  },
  {
   "cell_type": "code",
   "execution_count": 12,
   "id": "d70c453e",
   "metadata": {},
   "outputs": [
    {
     "name": "stdout",
     "output_type": "stream",
     "text": [
      "True\n",
      "True\n",
      "False\n",
      "True\n",
      "False\n"
     ]
    }
   ],
   "source": [
    "print(can_sum(7, [2, 3]))  # true\n",
    "print(can_sum(7, [5, 3, 4, 7]))  # true\n",
    "print(can_sum(7, [2, 4]))  # false\n",
    "print(can_sum(8, [2, 3, 5]))  # true\n",
    "print(can_sum(300, [7, 14]))  # false"
   ]
  },
  {
   "cell_type": "code",
   "execution_count": null,
   "id": "83ee79bc",
   "metadata": {},
   "outputs": [],
   "source": []
  }
 ],
 "metadata": {
  "kernelspec": {
   "display_name": "Python 3",
   "language": "python",
   "name": "python3"
  },
  "language_info": {
   "codemirror_mode": {
    "name": "ipython",
    "version": 3
   },
   "file_extension": ".py",
   "mimetype": "text/x-python",
   "name": "python",
   "nbconvert_exporter": "python",
   "pygments_lexer": "ipython3",
   "version": "3.9.5"
  }
 },
 "nbformat": 4,
 "nbformat_minor": 5
}
