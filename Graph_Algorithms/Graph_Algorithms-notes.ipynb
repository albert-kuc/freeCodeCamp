{
 "cells": [
  {
   "cell_type": "markdown",
   "id": "13967d82",
   "metadata": {},
   "source": [
    "# Graph Algorithms\n",
    "\n",
    "Based on [Graph Algorithms for Technical Interviews - Full Course](https://youtu.be/tWVWeAqZ0WU)"
   ]
  },
  {
   "cell_type": "markdown",
   "id": "d5af93d9",
   "metadata": {},
   "source": [
    "## Directed and Undirected Graphs\n",
    "\n",
    "* **Undirected graphs** don't restrain any direction of movement between edges.\n",
    "* **Directed graphs** allow edge movement between nodes only in certain directions.\n",
    "\n",
    "\n",
    "<img src='image/directed_undirected_graphs.jpg' width=50%>\n",
    "<div align=\"center\"> Fig. 1 </div>\n",
    "\n",
    "\n",
    "*Neighbour nodes* are any nodes accessible through an *edge*, obeying the direction of the edge:\n",
    "* **a** has neightbours: **b**, **c**\n",
    "* in *undirected graph* **c** has neighbours **a** and **e**\n",
    "* in *directed graph* **c** has only neighbour **e**\n",
    "\n",
    "Graphs are represented by **adjacency list**, a key-value object such as dictionary."
   ]
  },
  {
   "cell_type": "code",
   "execution_count": 1,
   "id": "49964b4a",
   "metadata": {},
   "outputs": [],
   "source": [
    "graph = {'a': ['b', 'c'],\n",
    "         'b': ['d'],\n",
    "         'c': ['e'],\n",
    "         'd': [],\n",
    "         'e': ['b'],\n",
    "         'f': ['d']}"
   ]
  },
  {
   "cell_type": "markdown",
   "id": "ae8ac651",
   "metadata": {},
   "source": [
    "## Traversal algorithms\n",
    "\\* **Directed graph** is considered for the following examples.\n",
    "\n",
    "### Depth first traversal\n",
    "\n",
    "Continues to explore one direction as long as possible before switching to other directions.\n",
    "\n",
    "Depth first traversal starting in **a** in Fig. 1:\n",
    "* a, b, d\n",
    "* a, c, e, b, d\n",
    "\n",
    "### Breadth first traversal\n",
    "\n",
    "From the starting point explores all the immediate neighbours.<br> \n",
    "Explores all directions evenly instead of favouring one direction all the way through.\n",
    "\n",
    "Breadth first traversal starting in **a** in Fig. 1:\n",
    "* a, b, c, d, e"
   ]
  },
  {
   "cell_type": "markdown",
   "id": "5d9a5058",
   "metadata": {},
   "source": [
    "<img src='image/traversal_algorighms.jpg' width=60%>\n",
    "<div align=\"center\">Fig. 2</div>"
   ]
  },
  {
   "cell_type": "markdown",
   "id": "750f3f5f",
   "metadata": {},
   "source": [
    "### Implementing code of traversal algorithms \n",
    "\n",
    "#### Example 1:\n",
    "<img src='image/graph1.jpg' width=20%>"
   ]
  },
  {
   "cell_type": "code",
   "execution_count": 2,
   "id": "bb376ffe",
   "metadata": {},
   "outputs": [],
   "source": [
    "graph = {'a': ['b', 'c'],\n",
    "         'b': ['d'],\n",
    "         'c': ['e'],\n",
    "         'd': ['f'],\n",
    "         'e': [],\n",
    "         'f': []}"
   ]
  },
  {
   "cell_type": "markdown",
   "id": "02643e72",
   "metadata": {},
   "source": [
    "**Depth first** traversal uses **Stack** (adds to the top and remove from the top)"
   ]
  },
  {
   "cell_type": "code",
   "execution_count": 3,
   "id": "b0d47489",
   "metadata": {},
   "outputs": [
    {
     "name": "stdout",
     "output_type": "stream",
     "text": [
      "a\n",
      "c\n",
      "e\n",
      "b\n",
      "d\n",
      "f\n"
     ]
    }
   ],
   "source": [
    "def depth_first_print(source):\n",
    "    # iterative version\n",
    "    stack = [source]\n",
    "    \n",
    "    while len(stack) > 0:\n",
    "        current = stack.pop()\n",
    "        print(current)\n",
    "        \n",
    "        for neighbour in graph[current]:\n",
    "            stack.append(neighbour)\n",
    "\n",
    "            \n",
    "depth_first_print('a')"
   ]
  },
  {
   "cell_type": "code",
   "execution_count": 4,
   "id": "c7b6258e",
   "metadata": {
    "scrolled": true
   },
   "outputs": [
    {
     "name": "stdout",
     "output_type": "stream",
     "text": [
      "a\n",
      "b\n",
      "d\n",
      "f\n",
      "c\n",
      "e\n"
     ]
    }
   ],
   "source": [
    "def depth_first_print(source):\n",
    "    # recursive version\n",
    "    print(source)\n",
    "    for neighbour in graph[source]:\n",
    "        depth_first_print(neighbour)\n",
    "\n",
    "\n",
    "depth_first_print('a')"
   ]
  },
  {
   "cell_type": "markdown",
   "id": "88adcd75",
   "metadata": {},
   "source": [
    "**Breadth first** traversal uses **Queue** (add to the back and remove from the front)"
   ]
  },
  {
   "cell_type": "code",
   "execution_count": 5,
   "id": "d2a3a664",
   "metadata": {},
   "outputs": [
    {
     "name": "stdout",
     "output_type": "stream",
     "text": [
      "a\n",
      "b\n",
      "c\n",
      "d\n",
      "e\n",
      "f\n"
     ]
    }
   ],
   "source": [
    "def breadth_first_print(source):\n",
    "    # iteratively only\n",
    "    queue = [source]\n",
    "    while len(queue) > 0:\n",
    "        current = queue.pop(0)\n",
    "        print(current)\n",
    "        for neighbour in graph[current]:\n",
    "            queue.append(neighbour)\n",
    "            \n",
    "\n",
    "breadth_first_print('a')"
   ]
  },
  {
   "cell_type": "markdown",
   "id": "fc3df587",
   "metadata": {},
   "source": [
    "#### Example 2\n",
    "\n",
    "Write a function *has_path()* that takes an object representing the adjacency list of a directed acyclic graph and two nodes (src, dst). The function should return a boolean indicating whether or not there exists a directed path between the *source* and *destination* nodes."
   ]
  },
  {
   "cell_type": "markdown",
   "id": "e3f345da",
   "metadata": {},
   "source": [
    "<img src='image/graph2.jpg' width=25%>"
   ]
  },
  {
   "cell_type": "code",
   "execution_count": 6,
   "id": "f4f13b63",
   "metadata": {},
   "outputs": [],
   "source": [
    "graph = {'f': ['g', 'i'],\n",
    "         'g': ['h'],\n",
    "         'h': [],\n",
    "         'i': ['g', 'k'],\n",
    "         'j': ['i'],\n",
    "         'k': []}"
   ]
  },
  {
   "cell_type": "code",
   "execution_count": 7,
   "id": "d5145c14",
   "metadata": {},
   "outputs": [],
   "source": [
    "def has_path_dfs(src, dst):\n",
    "    # depth first solution\n",
    "    # for acyclic graph only (no risk to get trapped inside an infinite loop)\n",
    "    \n",
    "    if src == dst: return True\n",
    "    \n",
    "    for neighbour in graph[src]:\n",
    "        if has_path_dfs(neighbour, dst) == True:\n",
    "            return True\n",
    "    \n",
    "    return False"
   ]
  },
  {
   "cell_type": "code",
   "execution_count": 8,
   "id": "a0c68f3d",
   "metadata": {},
   "outputs": [],
   "source": [
    "def has_path_bfs(src, dst):\n",
    "    # breadth first solution\n",
    "    # for acyclic graph only (no risk to get trapped inside an infinite loop)\n",
    "    \n",
    "    queue = [src]\n",
    "    \n",
    "    while queue:\n",
    "        current = queue.pop(0)\n",
    "        \n",
    "        if current == dst: \n",
    "            return True\n",
    "        \n",
    "        for neighbour in graph[current]:\n",
    "            queue.append(neighbour)\n",
    "    \n",
    "    return False"
   ]
  },
  {
   "cell_type": "code",
   "execution_count": 9,
   "id": "6b6e6f4c",
   "metadata": {},
   "outputs": [
    {
     "data": {
      "text/plain": [
       "True"
      ]
     },
     "execution_count": 9,
     "metadata": {},
     "output_type": "execute_result"
    }
   ],
   "source": [
    "has_path_dfs('f', 'k')  # True"
   ]
  },
  {
   "cell_type": "code",
   "execution_count": 10,
   "id": "323d2a48",
   "metadata": {},
   "outputs": [
    {
     "data": {
      "text/plain": [
       "False"
      ]
     },
     "execution_count": 10,
     "metadata": {},
     "output_type": "execute_result"
    }
   ],
   "source": [
    "has_path_dfs('j', 'f')  # False"
   ]
  },
  {
   "cell_type": "code",
   "execution_count": 11,
   "id": "8a528945",
   "metadata": {},
   "outputs": [
    {
     "data": {
      "text/plain": [
       "True"
      ]
     },
     "execution_count": 11,
     "metadata": {},
     "output_type": "execute_result"
    }
   ],
   "source": [
    "has_path_bfs('f', 'k')  # True"
   ]
  },
  {
   "cell_type": "code",
   "execution_count": 12,
   "id": "44970648",
   "metadata": {},
   "outputs": [
    {
     "data": {
      "text/plain": [
       "False"
      ]
     },
     "execution_count": 12,
     "metadata": {},
     "output_type": "execute_result"
    }
   ],
   "source": [
    "has_path_bfs('j', 'f')  # False"
   ]
  },
  {
   "cell_type": "markdown",
   "id": "5ff1aef6",
   "metadata": {},
   "source": [
    "## Undirected graph\n",
    "Connections are in both direction\n",
    "\n",
    "The below *edges* list represents connections between edges."
   ]
  },
  {
   "cell_type": "markdown",
   "id": "391b8893",
   "metadata": {},
   "source": [
    "**Example 3**\n",
    "\n",
    "Write a function *undirected_path()*, that takes in an array of edges for an undirected graph and two nodes (*node_a*, *node_b*). <br>\n",
    "The function should return a boolean indicating whether or not there exists a path between *node_a* and *node_b*.\n",
    "\n",
    "**Phase 1**: Convert an edge list to adjacency list to perform traversal algorithms."
   ]
  },
  {
   "cell_type": "code",
   "execution_count": 13,
   "id": "3fb0599e",
   "metadata": {},
   "outputs": [],
   "source": [
    "edges = [['i', 'j'], ['k', 'i'], ['m', 'k'], ['k', 'l'], ['o', 'n']]"
   ]
  },
  {
   "cell_type": "code",
   "execution_count": 14,
   "id": "2dae02fb",
   "metadata": {},
   "outputs": [],
   "source": [
    "def build_graph(edges):\n",
    "    graph = {}\n",
    "    \n",
    "    for edge in edges:\n",
    "        (a, b) = edge\n",
    "        if a not in graph:\n",
    "            graph[a] = []\n",
    "        if b not in graph:\n",
    "            graph[b] = []\n",
    "        \n",
    "        graph[a].append(b)\n",
    "        graph[b].append(a)\n",
    "        \n",
    "#         # alternative solution\n",
    "#         graph[a] = graph.get(a, []) + [b]\n",
    "#         graph[b] = graph.get(b, []) + [a]\n",
    "\n",
    "    return graph "
   ]
  },
  {
   "cell_type": "code",
   "execution_count": 15,
   "id": "79282179",
   "metadata": {},
   "outputs": [
    {
     "data": {
      "text/plain": [
       "{'i': ['j', 'k'],\n",
       " 'j': ['i'],\n",
       " 'k': ['i', 'm', 'l'],\n",
       " 'm': ['k'],\n",
       " 'l': ['k'],\n",
       " 'o': ['n'],\n",
       " 'n': ['o']}"
      ]
     },
     "execution_count": 15,
     "metadata": {},
     "output_type": "execute_result"
    }
   ],
   "source": [
    "g = build_graph(edges)\n",
    "g"
   ]
  },
  {
   "cell_type": "markdown",
   "id": "39f49bd7",
   "metadata": {},
   "source": [
    "<img src='image/graph3.jpg' width=18%>\n",
    "\n",
    "**Phase 2**: Define traversal through graph, but also protect from infinite loop.\n",
    "\n",
    "In undirected graph, a connection between two nodes is in two directions.<br>\n",
    "This creates a simple cycle, where we are traveling around in infinite recursion. <br>\n",
    "To overcome this, it requires to monitor the content of a visited set."
   ]
  },
  {
   "cell_type": "code",
   "execution_count": 16,
   "id": "41ab8ef5",
   "metadata": {},
   "outputs": [],
   "source": [
    "def has_path(graph, src, dst, visited):\n",
    "    if src == dst:\n",
    "        return True\n",
    "    if src in visited:\n",
    "        return False\n",
    "    \n",
    "    visited.add(src)\n",
    "    \n",
    "    for neighbour in graph[src]:\n",
    "        if has_path(graph, neighbour, dst, visited):\n",
    "            return True\n",
    "    \n",
    "    return False"
   ]
  },
  {
   "cell_type": "code",
   "execution_count": 17,
   "id": "bf6f037b",
   "metadata": {},
   "outputs": [],
   "source": [
    "def undirecdted_path(edges, node_a, node_b):\n",
    "    graph = build_graph(edges)\n",
    "    return has_path(graph, node_a, node_b, set())"
   ]
  },
  {
   "cell_type": "code",
   "execution_count": 18,
   "id": "ebc6d7fe",
   "metadata": {},
   "outputs": [
    {
     "data": {
      "text/plain": [
       "True"
      ]
     },
     "execution_count": 18,
     "metadata": {},
     "output_type": "execute_result"
    }
   ],
   "source": [
    "undirecdted_path(edges, 'i', 'm')"
   ]
  },
  {
   "cell_type": "code",
   "execution_count": 19,
   "id": "f91343bd",
   "metadata": {},
   "outputs": [
    {
     "data": {
      "text/plain": [
       "False"
      ]
     },
     "execution_count": 19,
     "metadata": {},
     "output_type": "execute_result"
    }
   ],
   "source": [
    "undirecdted_path(edges, 'i', 'n')"
   ]
  },
  {
   "cell_type": "markdown",
   "id": "201bff22",
   "metadata": {},
   "source": [
    "## Connected components count\n",
    "\n",
    "The following graph has multiple connected components.\n",
    "\n",
    "Count the number of connected components within the graph. <br>\n",
    "Use the combination of both: standard graph traversal code, and some iterative code.\n",
    "\n",
    "<img src='image/graph4.jpg' width=25%>"
   ]
  },
  {
   "cell_type": "code",
   "execution_count": 20,
   "id": "a7ffd3b9",
   "metadata": {},
   "outputs": [],
   "source": [
    "graph = {3: [],\n",
    "         4: [6],\n",
    "         6: [4, 5, 7, 8],\n",
    "         8: [6],\n",
    "         7: [6],\n",
    "         5: [6],\n",
    "         1: [2],\n",
    "         2: [1]}"
   ]
  },
  {
   "cell_type": "code",
   "execution_count": 21,
   "id": "2508a116",
   "metadata": {},
   "outputs": [],
   "source": [
    "def connected_components_count(graph):\n",
    "    '''Iterates through keys (nodes) in graph and calls explore function to walk through all elements of that component.\n",
    "    Increments the counter value each time completes to explore a component.\n",
    "    '''\n",
    "    visited = set()\n",
    "    count = 0\n",
    "    for node in graph:\n",
    "        if explore(graph, node, visited):\n",
    "            count += 1\n",
    "    \n",
    "    return count"
   ]
  },
  {
   "cell_type": "code",
   "execution_count": 22,
   "id": "ec6f09d8",
   "metadata": {},
   "outputs": [],
   "source": [
    "def explore(graph, current, visited):\n",
    "    '''Depth first traversal. Uses recursion to explore all elements of a component. Returns True when finished exploring.'''\n",
    "    \n",
    "    if current in visited:\n",
    "        return False\n",
    "    \n",
    "    visited.add(current)\n",
    "    \n",
    "    for neighbour in graph[current]:\n",
    "        explore(graph, neighbour, visited)\n",
    "    \n",
    "    return True"
   ]
  },
  {
   "cell_type": "code",
   "execution_count": 23,
   "id": "066939b1",
   "metadata": {},
   "outputs": [
    {
     "data": {
      "text/plain": [
       "3"
      ]
     },
     "execution_count": 23,
     "metadata": {},
     "output_type": "execute_result"
    }
   ],
   "source": [
    "connected_components_count(graph)"
   ]
  },
  {
   "cell_type": "markdown",
   "id": "bbc7fde1",
   "metadata": {},
   "source": [
    "## Largest component\n",
    "\n",
    "Consider a size of each component (island), which is the number of nodes within that component.<br>\n",
    "For the largest component that would be the highest number associated to a group of components."
   ]
  },
  {
   "cell_type": "markdown",
   "id": "f6babac1",
   "metadata": {},
   "source": [
    "<img src='image/graph5.jpg' width=25%>"
   ]
  },
  {
   "cell_type": "code",
   "execution_count": 24,
   "id": "7e44782e",
   "metadata": {},
   "outputs": [],
   "source": [
    "graph = {'0': ['8', '1', '5'],\n",
    "         '1': ['0'],\n",
    "         '5': ['0', '8'],\n",
    "         '8': ['0', '5'],\n",
    "         '2': ['3', '4'], \n",
    "         '3': ['2', '4'],\n",
    "         '4': ['3', '2']}"
   ]
  },
  {
   "cell_type": "code",
   "execution_count": 25,
   "id": "784f6d20",
   "metadata": {},
   "outputs": [],
   "source": [
    "def largest_component(graph):\n",
    "    '''Iterates through graph keys (nodes) and calls explore function to traverse through component.'''\n",
    "    largest = 0\n",
    "    visited = set()\n",
    "    \n",
    "    for node in graph:\n",
    "        size = explore(graph, node, visited)\n",
    "        largest = max(size, largest)\n",
    "    \n",
    "    return largest"
   ]
  },
  {
   "cell_type": "code",
   "execution_count": 26,
   "id": "80dc1e39",
   "metadata": {},
   "outputs": [],
   "source": [
    "def explore(graph, node, visited):\n",
    "    '''Depth first traversal. Uses recursion to explore all elements of a component.\n",
    "    Counts the number of explored elements.'''\n",
    "    if node in visited:\n",
    "        return 0\n",
    "    visited.add(node)\n",
    "    size = 1\n",
    "    \n",
    "    for neighbour in graph[node]:\n",
    "        size += explore(graph, neighbour, visited)\n",
    "    \n",
    "    return size"
   ]
  },
  {
   "cell_type": "code",
   "execution_count": 27,
   "id": "07c404a4",
   "metadata": {},
   "outputs": [
    {
     "data": {
      "text/plain": [
       "4"
      ]
     },
     "execution_count": 27,
     "metadata": {},
     "output_type": "execute_result"
    }
   ],
   "source": [
    "largest_component(graph)"
   ]
  },
  {
   "cell_type": "markdown",
   "id": "6d6dcfac",
   "metadata": {},
   "source": [
    "## Shortest path\n",
    "\n",
    "Given two nodes return the shortest path between the two.\n",
    "\n",
    "For this task **Breadth First Traversal** is superior over Depth First Traversal, although both would eventually succeed. "
   ]
  },
  {
   "cell_type": "markdown",
   "id": "23ef9538",
   "metadata": {},
   "source": [
    "<img src='image/graph6.jpg' width=35%>"
   ]
  },
  {
   "cell_type": "code",
   "execution_count": 28,
   "id": "0f7717df",
   "metadata": {},
   "outputs": [],
   "source": [
    "edges = [['w', 'x'], \n",
    "         ['x', 'y'],\n",
    "         ['z', 'y'],\n",
    "         ['z', 'v'],\n",
    "         ['w', 'v']]"
   ]
  },
  {
   "cell_type": "code",
   "execution_count": 29,
   "id": "f499d4b5",
   "metadata": {},
   "outputs": [],
   "source": [
    "def build_graph(edges):\n",
    "    graph = {}\n",
    "    for edge in edges:\n",
    "        (a, b) = edge\n",
    "        if not a in graph:\n",
    "            graph[a] = []\n",
    "        if not b in graph:\n",
    "            graph[b] = []\n",
    "        graph[a].append(b)\n",
    "        graph[b].append(a)\n",
    "    return graph"
   ]
  },
  {
   "cell_type": "code",
   "execution_count": 30,
   "id": "606c0325",
   "metadata": {},
   "outputs": [
    {
     "data": {
      "text/plain": [
       "{'w': ['x', 'v'],\n",
       " 'x': ['w', 'y'],\n",
       " 'y': ['x', 'z'],\n",
       " 'z': ['y', 'v'],\n",
       " 'v': ['z', 'w']}"
      ]
     },
     "execution_count": 30,
     "metadata": {},
     "output_type": "execute_result"
    }
   ],
   "source": [
    "build_graph(edges)"
   ]
  },
  {
   "cell_type": "code",
   "execution_count": 31,
   "id": "1ce0500f",
   "metadata": {},
   "outputs": [],
   "source": [
    "def shortest_path(edges, src, dst):\n",
    "    graph = build_graph(edges)\n",
    "    \n",
    "    queue = [(src, 0)]\n",
    "    visited = set(src)\n",
    "    \n",
    "    while len(queue) > 0:\n",
    "        current, distance = queue.pop(0)\n",
    "        \n",
    "        if current == dst:\n",
    "            return distance\n",
    "        \n",
    "        for neighbour in graph[current]:\n",
    "            if neighbour in visited:\n",
    "                continue\n",
    "                 \n",
    "            visited.add(neighbour)\n",
    "            queue.append((neighbour, distance+1))\n",
    "    \n",
    "    return -1"
   ]
  },
  {
   "cell_type": "code",
   "execution_count": 32,
   "id": "2ca87e07",
   "metadata": {},
   "outputs": [
    {
     "data": {
      "text/plain": [
       "2"
      ]
     },
     "execution_count": 32,
     "metadata": {},
     "output_type": "execute_result"
    }
   ],
   "source": [
    "shortest_path(edges, 'w', 'z')"
   ]
  },
  {
   "cell_type": "markdown",
   "id": "37f43f28",
   "metadata": {},
   "source": [
    "## Island count\n",
    "\n",
    "Give a 2d array representing a grid of land and water, return a number representing the number of islands on the grid. "
   ]
  },
  {
   "cell_type": "markdown",
   "id": "42b8027b",
   "metadata": {},
   "source": [
    "<img src='image/grid1.jpg' width=30%>"
   ]
  },
  {
   "cell_type": "code",
   "execution_count": 33,
   "id": "2cf6822a",
   "metadata": {},
   "outputs": [],
   "source": [
    "grid = [\n",
    "    ['W', 'L', 'W', 'W', 'L', 'W'],\n",
    "    ['L', 'L', 'W', 'W', 'L', 'W'],\n",
    "    ['W', 'L', 'W', 'W', 'W', 'W'],\n",
    "    ['W', 'W', 'W', 'L', 'L', 'W'],\n",
    "    ['W', 'L', 'W', 'L', 'L', 'W'],\n",
    "    ['W', 'W', 'W', 'W', 'W', 'W'],\n",
    "]"
   ]
  },
  {
   "cell_type": "code",
   "execution_count": 34,
   "id": "dd33722e",
   "metadata": {},
   "outputs": [],
   "source": [
    "def island_count(grid):\n",
    "    visited = set()\n",
    "    count = 0\n",
    "    \n",
    "    for r in range(len(grid)):\n",
    "        for c in range(len(grid[0])):\n",
    "            if explore(grid, r, c, visited):\n",
    "                count += 1\n",
    "    \n",
    "    return count"
   ]
  },
  {
   "cell_type": "code",
   "execution_count": 35,
   "id": "ce3e3297",
   "metadata": {},
   "outputs": [],
   "source": [
    "def explore(grid, r, c, visited):\n",
    "    row_inbounds = (0 <= r) & (r < len(grid))\n",
    "    col_inbounds = (0 <= c) & (c < len(grid[0]))\n",
    "    if (not row_inbounds) | (not col_inbounds):\n",
    "        return False\n",
    "    if grid[r][c] == 'W':\n",
    "        return False\n",
    "    \n",
    "    pos = f'{r},{c}'\n",
    "    if pos in visited:\n",
    "        return False\n",
    "    visited.add(pos)\n",
    "    \n",
    "    explore(grid, r - 1, c, visited)\n",
    "    explore(grid, r + 1, c, visited)\n",
    "    explore(grid, r, c - 1, visited)\n",
    "    explore(grid, r, c + 1, visited)\n",
    "    \n",
    "    return True"
   ]
  },
  {
   "cell_type": "code",
   "execution_count": 36,
   "id": "24c06843",
   "metadata": {},
   "outputs": [
    {
     "data": {
      "text/plain": [
       "4"
      ]
     },
     "execution_count": 36,
     "metadata": {},
     "output_type": "execute_result"
    }
   ],
   "source": [
    "island_count(grid)"
   ]
  },
  {
   "cell_type": "markdown",
   "id": "83a11b19",
   "metadata": {},
   "source": [
    "## Minimum island\n",
    "\n",
    "Given a grid of Land and Water, return a number representing the size of a smallest island."
   ]
  },
  {
   "cell_type": "code",
   "execution_count": 37,
   "id": "56c4996d",
   "metadata": {},
   "outputs": [],
   "source": [
    "def minimum_island(grid):\n",
    "    visited = set()\n",
    "    min_size = float(\"inf\")\n",
    "    for r in range(len(grid)):\n",
    "        for c in range(len(grid[0])):\n",
    "            size = explore_size(grid, r, c, visited)\n",
    "            if size > 0:\n",
    "                min_size = min(size, min_size)\n",
    "    return min_size"
   ]
  },
  {
   "cell_type": "code",
   "execution_count": 38,
   "id": "bf6aba47",
   "metadata": {},
   "outputs": [],
   "source": [
    "def explore_size(grid, r, c, visited):\n",
    "    row_inbounds = (0 < r) & (r < len(grid))\n",
    "    col_inbounds = (0 < c) & (c < len(grid[0]))\n",
    "    if (not row_inbounds) & (not col_inbounds):\n",
    "        return 0\n",
    "    if grid[r][c] == 'W':\n",
    "        return 0\n",
    "    \n",
    "    pos = f'{r},{c}'\n",
    "    if pos in visited:\n",
    "        return 0\n",
    "    visited.add(pos)\n",
    "    \n",
    "    size = 1\n",
    "    size += explore_size(grid, r-1, c, visited)\n",
    "    size += explore_size(grid, r+1, c, visited)\n",
    "    size += explore_size(grid, r, c-1, visited)\n",
    "    size += explore_size(grid, r, c+1, visited)\n",
    "    \n",
    "    return size    "
   ]
  },
  {
   "cell_type": "code",
   "execution_count": 39,
   "id": "ef7ca60c",
   "metadata": {},
   "outputs": [
    {
     "data": {
      "text/plain": [
       "1"
      ]
     },
     "execution_count": 39,
     "metadata": {},
     "output_type": "execute_result"
    }
   ],
   "source": [
    "minimum_island(grid)"
   ]
  },
  {
   "cell_type": "code",
   "execution_count": null,
   "id": "f0d4e5cd",
   "metadata": {},
   "outputs": [],
   "source": []
  }
 ],
 "metadata": {
  "kernelspec": {
   "display_name": "Python 3",
   "language": "python",
   "name": "python3"
  },
  "language_info": {
   "codemirror_mode": {
    "name": "ipython",
    "version": 3
   },
   "file_extension": ".py",
   "mimetype": "text/x-python",
   "name": "python",
   "nbconvert_exporter": "python",
   "pygments_lexer": "ipython3",
   "version": "3.9.5"
  }
 },
 "nbformat": 4,
 "nbformat_minor": 5
}
