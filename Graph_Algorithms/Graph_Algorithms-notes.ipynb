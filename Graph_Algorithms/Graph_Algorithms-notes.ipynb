{
 "cells": [
  {
   "cell_type": "markdown",
   "id": "13967d82",
   "metadata": {},
   "source": [
    "# Graph Algorithms\n",
    "\n",
    "Based on [Graph Algorithms for Technical Interviews - Full Course](https://youtu.be/tWVWeAqZ0WU)"
   ]
  },
  {
   "cell_type": "markdown",
   "id": "d5af93d9",
   "metadata": {},
   "source": [
    "## Directed and Undirected Graphs\n",
    "\n",
    "* **Undirected graphs** don't restrain any direction of movement between edges.\n",
    "* **Directed graphs** allow edge movement between nodes only in certain directions.\n",
    "\n",
    "\n",
    "<img src='image/directed_undirected_graphs.jpg' width=50%>\n",
    "<div align=\"center\"> Fig. 1 </div>\n",
    "\n",
    "\n",
    "*Neighbour nodes* are any nodes accessible through an *edge*, obeying the direction of the edge:\n",
    "* **a** has neightbours: **b**, **c**\n",
    "* in *undirected graph* **c** has neighbours **a** and **e**\n",
    "* in *directed graph* **c** has only neighbour **e**\n",
    "\n",
    "Graphs are represented by **adjacency list**, a key-value object such as dictionary."
   ]
  },
  {
   "cell_type": "code",
   "execution_count": 1,
   "id": "49964b4a",
   "metadata": {},
   "outputs": [],
   "source": [
    "graph = {'a': ['b', 'c'],\n",
    "         'b': ['d'],\n",
    "         'c': ['e'],\n",
    "         'd': [],\n",
    "         'e': ['b'],\n",
    "         'f': ['d']}"
   ]
  },
  {
   "cell_type": "markdown",
   "id": "ae8ac651",
   "metadata": {},
   "source": [
    "## Traversal algorithms\n",
    "\\* **Directed graph** is considered for the following examples.\n",
    "\n",
    "### Depth first traversal\n",
    "\n",
    "Continues to explore one direction as long as possible before switching to other directions.\n",
    "\n",
    "Depth first traversal starting in **a** in Fig. 1:\n",
    "* a, b, d\n",
    "* a, c, e, b, d\n",
    "\n",
    "### Breadth first traversal\n",
    "\n",
    "From the starting point explores all the immediate neighbours.<br> \n",
    "Explores all directions evenly instead of favouring one direction all the way through.\n",
    "\n",
    "Breadth first traversal starting in **a** in Fig. 1:\n",
    "* a, b, c, d, e"
   ]
  },
  {
   "cell_type": "markdown",
   "id": "5d9a5058",
   "metadata": {},
   "source": [
    "<img src='image/traversal_algorighms.jpg' width=60%>\n",
    "<div align=\"center\">Fig. 2</div>"
   ]
  },
  {
   "cell_type": "markdown",
   "id": "750f3f5f",
   "metadata": {},
   "source": [
    "### Implementing code of traversal algorithms \n",
    "\n",
    "#### Example 1:\n",
    "<img src='image/graph1.jpg' width=20%>"
   ]
  },
  {
   "cell_type": "code",
   "execution_count": 2,
   "id": "bb376ffe",
   "metadata": {},
   "outputs": [],
   "source": [
    "graph = {'a': ['b', 'c'],\n",
    "         'b': ['d'],\n",
    "         'c': ['e'],\n",
    "         'd': ['f'],\n",
    "         'e': [],\n",
    "         'f': []}"
   ]
  },
  {
   "cell_type": "markdown",
   "id": "02643e72",
   "metadata": {},
   "source": [
    "**Depth first** traversal uses **Stack** (adds to the top and remove from the top)"
   ]
  },
  {
   "cell_type": "code",
   "execution_count": 3,
   "id": "b0d47489",
   "metadata": {},
   "outputs": [
    {
     "name": "stdout",
     "output_type": "stream",
     "text": [
      "a\n",
      "c\n",
      "e\n",
      "b\n",
      "d\n",
      "f\n"
     ]
    }
   ],
   "source": [
    "def depth_first_print(source):\n",
    "    # iterative version\n",
    "    stack = [source]\n",
    "    \n",
    "    while len(stack) > 0:\n",
    "        current = stack.pop()\n",
    "        print(current)\n",
    "        \n",
    "        for neighbour in graph[current]:\n",
    "            stack.append(neighbour)\n",
    "\n",
    "            \n",
    "depth_first_print('a')"
   ]
  },
  {
   "cell_type": "code",
   "execution_count": 4,
   "id": "c7b6258e",
   "metadata": {
    "scrolled": true
   },
   "outputs": [
    {
     "name": "stdout",
     "output_type": "stream",
     "text": [
      "a\n",
      "b\n",
      "d\n",
      "f\n",
      "c\n",
      "e\n"
     ]
    }
   ],
   "source": [
    "def depth_first_print(source):\n",
    "    # recursive version\n",
    "    print(source)\n",
    "    for neighbour in graph[source]:\n",
    "        depth_first_print(neighbour)\n",
    "\n",
    "\n",
    "depth_first_print('a')"
   ]
  },
  {
   "cell_type": "markdown",
   "id": "88adcd75",
   "metadata": {},
   "source": [
    "**Breadth first** traversal uses **Queue** (add to the back and remove from the front)"
   ]
  },
  {
   "cell_type": "code",
   "execution_count": 5,
   "id": "d2a3a664",
   "metadata": {},
   "outputs": [
    {
     "name": "stdout",
     "output_type": "stream",
     "text": [
      "a\n",
      "b\n",
      "c\n",
      "d\n",
      "e\n",
      "f\n"
     ]
    }
   ],
   "source": [
    "def breadth_first_print(source):\n",
    "    # iteratively only\n",
    "    queue = [source]\n",
    "    while len(queue) > 0:\n",
    "        current = queue.pop(0)\n",
    "        print(current)\n",
    "        for neighbour in graph[current]:\n",
    "            queue.append(neighbour)\n",
    "            \n",
    "\n",
    "breadth_first_print('a')"
   ]
  },
  {
   "cell_type": "markdown",
   "id": "fc3df587",
   "metadata": {},
   "source": [
    "#### Example 2\n",
    "\n",
    "Write a function *has_path()* that takes an object representing the adjacency list of a directed acyclic graph and two nodes (src, dst). The function should return a boolean indicating whether or not there exists a directed path between the *source* and *destination* nodes."
   ]
  },
  {
   "cell_type": "markdown",
   "id": "e3f345da",
   "metadata": {},
   "source": [
    "<img src='image/graph2.jpg' width=25%>"
   ]
  },
  {
   "cell_type": "code",
   "execution_count": 6,
   "id": "f4f13b63",
   "metadata": {},
   "outputs": [],
   "source": [
    "graph = {'f': ['g', 'i'],\n",
    "         'g': ['h'],\n",
    "         'h': [],\n",
    "         'i': ['g', 'k'],\n",
    "         'j': ['i'],\n",
    "         'k': []}"
   ]
  },
  {
   "cell_type": "code",
   "execution_count": 7,
   "id": "d5145c14",
   "metadata": {},
   "outputs": [],
   "source": [
    "def has_path_dfs(src, dst):\n",
    "    # depth first solution\n",
    "    # for acyclic graph (won't get trapped inside an infinite loop)\n",
    "    \n",
    "    if src == dst: return True\n",
    "    \n",
    "    for neighbour in graph[src]:\n",
    "        if has_path_dfs(neighbour, dst) == True:\n",
    "            return True\n",
    "    \n",
    "    return False"
   ]
  },
  {
   "cell_type": "code",
   "execution_count": 8,
   "id": "a0c68f3d",
   "metadata": {},
   "outputs": [],
   "source": [
    "def has_path_bfs(src, dst):\n",
    "    # breadth first solution\n",
    "    # for acyclic graph (won't get trapped inside an infinite loop)\n",
    "    \n",
    "    queue = [src]\n",
    "    \n",
    "    while queue:\n",
    "        current = queue.pop(0)\n",
    "        \n",
    "        if current == dst: \n",
    "            return True\n",
    "        \n",
    "        for neighbour in graph[current]:\n",
    "            queue.append(neighbour)\n",
    "    \n",
    "    return False"
   ]
  },
  {
   "cell_type": "code",
   "execution_count": 9,
   "id": "6b6e6f4c",
   "metadata": {},
   "outputs": [
    {
     "data": {
      "text/plain": [
       "True"
      ]
     },
     "execution_count": 9,
     "metadata": {},
     "output_type": "execute_result"
    }
   ],
   "source": [
    "has_path_dfs('f', 'k')  # True"
   ]
  },
  {
   "cell_type": "code",
   "execution_count": 10,
   "id": "8a528945",
   "metadata": {},
   "outputs": [
    {
     "data": {
      "text/plain": [
       "True"
      ]
     },
     "execution_count": 10,
     "metadata": {},
     "output_type": "execute_result"
    }
   ],
   "source": [
    "has_path_bfs('f', 'k')  # True"
   ]
  },
  {
   "cell_type": "code",
   "execution_count": 11,
   "id": "323d2a48",
   "metadata": {},
   "outputs": [
    {
     "data": {
      "text/plain": [
       "False"
      ]
     },
     "execution_count": 11,
     "metadata": {},
     "output_type": "execute_result"
    }
   ],
   "source": [
    "has_path_dfs('j', 'f')  # False"
   ]
  },
  {
   "cell_type": "code",
   "execution_count": 12,
   "id": "44970648",
   "metadata": {},
   "outputs": [
    {
     "data": {
      "text/plain": [
       "False"
      ]
     },
     "execution_count": 12,
     "metadata": {},
     "output_type": "execute_result"
    }
   ],
   "source": [
    "has_path_bfs('j', 'f')  # False"
   ]
  },
  {
   "cell_type": "code",
   "execution_count": null,
   "id": "1cdd879a",
   "metadata": {},
   "outputs": [],
   "source": []
  }
 ],
 "metadata": {
  "kernelspec": {
   "display_name": "Python 3",
   "language": "python",
   "name": "python3"
  },
  "language_info": {
   "codemirror_mode": {
    "name": "ipython",
    "version": 3
   },
   "file_extension": ".py",
   "mimetype": "text/x-python",
   "name": "python",
   "nbconvert_exporter": "python",
   "pygments_lexer": "ipython3",
   "version": "3.9.5"
  }
 },
 "nbformat": 4,
 "nbformat_minor": 5
}
