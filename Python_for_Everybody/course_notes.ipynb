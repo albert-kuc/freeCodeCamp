{
 "cells": [
  {
   "cell_type": "markdown",
   "metadata": {},
   "source": [
    "### Python for Everybody"
   ]
  },
  {
   "cell_type": "markdown",
   "metadata": {},
   "source": [
    "## 06. [Intermediate Strings](https://www.freecodecamp.org/learn/scientific-computing-with-python/python-for-everybody/intermediate-strings)\n",
    "\n",
    "Extract email domain:"
   ]
  },
  {
   "cell_type": "code",
   "execution_count": 1,
   "metadata": {},
   "outputs": [
    {
     "name": "stdout",
     "output_type": "stream",
     "text": [
      "uct.ac.za\n"
     ]
    }
   ],
   "source": [
    "data = 'From stephen.marquard@uct.ac.za Sat Jan  5 09:14:16 2008'\n",
    "atpos = data.find('@')  # -> 21\n",
    "sppos = data.find(' ', atpos)  # -> 31\n",
    "host = data[atpos+1:sppos]  # -> uct.ac.za\n",
    "print(host) "
   ]
  },
  {
   "cell_type": "markdown",
   "metadata": {},
   "source": [
    "## 07. [Files as a Sequence](https://www.freecodecamp.org/learn/scientific-computing-with-python/python-for-everybody/files-as-a-sequence)\n",
    "\n",
    "Search through a file and extract lines that start with `From:`:"
   ]
  },
  {
   "cell_type": "code",
   "execution_count": 2,
   "metadata": {
    "scrolled": false
   },
   "outputs": [
    {
     "name": "stdout",
     "output_type": "stream",
     "text": [
      "From: stephen.marquard@uct.ac.za\n",
      "From: louis@media.berkeley.edu\n",
      "From: zqian@umich.edu\n",
      "From: rjlowe@iupui.edu\n",
      "From: zqian@umich.edu\n",
      "From: rjlowe@iupui.edu\n",
      "From: cwen@iupui.edu\n",
      "From: cwen@iupui.edu\n",
      "From: gsilver@umich.edu\n",
      "From: gsilver@umich.edu\n",
      "From: zqian@umich.edu\n",
      "From: gsilver@umich.edu\n",
      "From: wagnermr@iupui.edu\n",
      "From: zqian@umich.edu\n",
      "From: antranig@caret.cam.ac.uk\n",
      "From: gopal.ramasammycook@gmail.com\n",
      "From: david.horwitz@uct.ac.za\n",
      "From: david.horwitz@uct.ac.za\n",
      "From: david.horwitz@uct.ac.za\n",
      "From: david.horwitz@uct.ac.za\n",
      "From: stephen.marquard@uct.ac.za\n",
      "From: louis@media.berkeley.edu\n",
      "From: louis@media.berkeley.edu\n",
      "From: ray@media.berkeley.edu\n",
      "From: cwen@iupui.edu\n",
      "From: cwen@iupui.edu\n",
      "From: cwen@iupui.edu\n"
     ]
    }
   ],
   "source": [
    "fhand = open('datasets/mbox-short.txt')\n",
    "for line in fhand:\n",
    "    line = line.rstrip() # -> removes whitespace on the right hand side which results in removing \\n\n",
    "    if line.startswith('From:'):\n",
    "        print(line)"
   ]
  },
  {
   "cell_type": "markdown",
   "metadata": {},
   "source": [
    "## 09. [Dictionaries: Common Applications](https://www.freecodecamp.org/learn/scientific-computing-with-python/python-for-everybody/dictionaries-common-applications)\n",
    "\n",
    "Count elements method 1:"
   ]
  },
  {
   "cell_type": "code",
   "execution_count": 3,
   "metadata": {},
   "outputs": [
    {
     "name": "stdout",
     "output_type": "stream",
     "text": [
      "{'csev': 2, 'cwen': 2, 'zqian': 1}\n"
     ]
    }
   ],
   "source": [
    "counts = dict()\n",
    "names = ['csev', 'cwen', 'csev', 'zqian', 'cwen']\n",
    "for name in names:\n",
    "    if name not in counts:\n",
    "        counts[name] = 1\n",
    "    else:\n",
    "        counts[name] = counts[name] + 1\n",
    "print(counts)"
   ]
  },
  {
   "cell_type": "markdown",
   "metadata": {},
   "source": [
    "-----------------------\n",
    "\n",
    "Count elements method 2. The same result using `.get()`:"
   ]
  },
  {
   "cell_type": "code",
   "execution_count": 4,
   "metadata": {},
   "outputs": [
    {
     "name": "stdout",
     "output_type": "stream",
     "text": [
      "{'csev': 2, 'cwen': 2, 'zqian': 1}\n"
     ]
    }
   ],
   "source": [
    "# the same result using .get()\n",
    "counts = dict()\n",
    "names = ['csev', 'cwen', 'csev', 'zqian', 'cwen']\n",
    "for name in names:\n",
    "    counts[name] = counts.get(name, 0) + 1\n",
    "print(counts)"
   ]
  },
  {
   "cell_type": "markdown",
   "metadata": {},
   "source": [
    "## 10. [Comparing and Sorting Tuples](https://www.freecodecamp.org/learn/scientific-computing-with-python/python-for-everybody/comparing-and-sorting-tuples)\n",
    "\n",
    "Extract the top 10 most common words:"
   ]
  },
  {
   "cell_type": "code",
   "execution_count": 5,
   "metadata": {},
   "outputs": [
    {
     "name": "stdout",
     "output_type": "stream",
     "text": [
      "Jan 352\n",
      "2008 324\n",
      "by 245\n",
      "Received: 243\n",
      "-0500 219\n",
      "from 218\n",
      "4 203\n",
      "with 194\n",
      "Fri, 183\n",
      "id 136\n"
     ]
    }
   ],
   "source": [
    "fhand = open('datasets/mbox-short.txt')\n",
    "counts = dict()\n",
    "for line in fhand:\n",
    "    words = line.split()\n",
    "    for word in words:\n",
    "        counts[word] = counts.get(word, 0) + 1\n",
    "\n",
    "lst = list()\n",
    "for key, val in counts.items():\n",
    "    newtup = (val, key)\n",
    "    lst.append(newtup)\n",
    "\n",
    "lst = sorted(lst, reverse=True)\n",
    "\n",
    "for val, key in lst[:10]:\n",
    "    print(key, val)"
   ]
  },
  {
   "cell_type": "markdown",
   "metadata": {},
   "source": [
    "---------------\n",
    "\n",
    "Sort dictionary based on the value"
   ]
  },
  {
   "cell_type": "code",
   "execution_count": 6,
   "metadata": {},
   "outputs": [
    {
     "name": "stdout",
     "output_type": "stream",
     "text": [
      "[('c', 50), ('a', 10), ('b', 2)]\n"
     ]
    }
   ],
   "source": [
    "c = {'a': 10, 'b':2, 'c':50}\n",
    "sorted_c = sorted([(v, k) for k, v in c.items()], reverse=True)\n",
    "print([(v, k) for k, v in sorted_c])"
   ]
  },
  {
   "cell_type": "markdown",
   "metadata": {},
   "source": [
    "## 11. [RegEx](https://www.freecodecamp.org/learn/scientific-computing-with-python/python-for-everybody/regular-expressions)\n",
    "\n",
    "Regular expression quick guide:\n",
    "\n",
    "`^` Matches the __beginning__ of a line  \n",
    "`$` Matches the __end__ of the line  \n",
    "`.` Matches __any__ character  \n",
    "`\\s` Matches __whitespace__  \n",
    "`\\S` Matches any __non-whitespace__ character  \n",
    "`*` __Repeats__ a character zero or more times  \n",
    "`*?` __Repeats__ a character zero or more times (non-greedy)  \n",
    "`+` __Repeats__ a character one or more times  \n",
    "`+?` __Repeats__ a character one or more times (non-greedy)  \n",
    "`[aeiou]` Matches a single character in the listed __set__  \n",
    "`[^XYZ]` Matches a single character __not in__ the listed __set__  \n",
    "`[a-z0-9]` The set of characters can include a __range__. Square bracket represent a one character allowed out of the range described inside the brackets  \n",
    "`(` Indicates where string __extraction__ is to start  \n",
    "`)` Indicates where string __extraction__ is to end\n"
   ]
  },
  {
   "cell_type": "markdown",
   "metadata": {},
   "source": [
    "## 11. [RegEx (2)](https://www.freecodecamp.org/learn/scientific-computing-with-python/python-for-everybody/regular-expressions-matching-and-extracting-data)\n",
    "\n",
    "### Example 1:\n",
    "`[0-9]+` Finds one or more digits "
   ]
  },
  {
   "cell_type": "code",
   "execution_count": 7,
   "metadata": {},
   "outputs": [
    {
     "name": "stdout",
     "output_type": "stream",
     "text": [
      "['2', '23', '45']\n"
     ]
    }
   ],
   "source": [
    "import re\n",
    "\n",
    "x = 'My 2 farorite numbers are 23 and 45'\n",
    "y = re.findall('[0-9]+', x)\n",
    "print(y)"
   ]
  },
  {
   "cell_type": "markdown",
   "metadata": {},
   "source": [
    "-----------------\n",
    "\n",
    "### Example 2A: Greedy matching\n",
    "\n",
    "`^F.+:` Finds string which starts with `F` followed by any characters and finishes with `:`\n",
    "* `^F` - first character in the match is an F\n",
    "* `.+` - one or more `any` characters \n",
    "* `:` - last character in the match is a `:`\n",
    "\n",
    "__Greedy__ means that out of two options which comply here _'From:'_ and _'From: Using the:'_ , the alghorithm will choose the longer one. "
   ]
  },
  {
   "cell_type": "code",
   "execution_count": 8,
   "metadata": {},
   "outputs": [
    {
     "name": "stdout",
     "output_type": "stream",
     "text": [
      "['From: Using the:']\n"
     ]
    }
   ],
   "source": [
    "# Greedy Matching\n",
    "x = 'From: Using the: character'\n",
    "y = re.findall('^F.+:', x)\n",
    "print(y)"
   ]
  },
  {
   "cell_type": "markdown",
   "metadata": {},
   "source": [
    "### Example 2B: Non-greedy matching\n",
    "`^F.+?:` Finds string which starts with `F` followed by any character and finishes with `:`\n",
    "* `^F` - the first character in the string is F, followed by\n",
    "* `.+?` - one or more `any` characters, but `non-greedy` \n",
    "* `:` - last character in the match is `:`\n",
    "\n",
    "__Non-greedy__ means that out of two options which comply here: _'From:'_ and _'From: Using the:'_ the algorighm will choose the shorter one"
   ]
  },
  {
   "cell_type": "code",
   "execution_count": 9,
   "metadata": {},
   "outputs": [
    {
     "name": "stdout",
     "output_type": "stream",
     "text": [
      "['From:']\n"
     ]
    }
   ],
   "source": [
    "# Greedy Matching\n",
    "x = 'From: Using the: character'\n",
    "y = re.findall('^F.+?:', x)\n",
    "print(y)"
   ]
  },
  {
   "cell_type": "markdown",
   "metadata": {},
   "source": [
    "-----------------\n",
    "\n",
    "### Example 3A: Fine-Tuning String Extraction\n",
    "`\\S+@\\S+` Finds a match with one or more non-blank character, then '@' in the middle and non-blank character following\n",
    "* `\\S+` - one or more non-blank character, followed by\n",
    "* `@` - '@' sign, followed by\n",
    "* `\\S+` - one or more non-blank character"
   ]
  },
  {
   "cell_type": "code",
   "execution_count": 10,
   "metadata": {},
   "outputs": [
    {
     "name": "stdout",
     "output_type": "stream",
     "text": [
      "['stephen.marquard@uct.az.za']\n"
     ]
    }
   ],
   "source": [
    "x = 'From stephen.marquard@uct.az.za Sat Jan  5 09:14:16 2008'\n",
    "y = re.findall('\\S+@\\S+', x)\n",
    "print(y)"
   ]
  },
  {
   "cell_type": "markdown",
   "metadata": {},
   "source": [
    "### Example 3B: Fine-Tuning String Execution (2)\n",
    "In the following example string outside `(`parentheses`)` are not part of the match but they are required to match the syntax\n",
    "\n",
    "* `^From ` - from at the beginning of a string followed up by a space\n",
    "* `(\\S+@\\S+)` - extract one or more-non blank character, followed by '@' sign, followed by one or more non-blank character"
   ]
  },
  {
   "cell_type": "code",
   "execution_count": 11,
   "metadata": {},
   "outputs": [
    {
     "name": "stdout",
     "output_type": "stream",
     "text": [
      "['stephen.marquard@uct.az.za']\n"
     ]
    }
   ],
   "source": [
    "x = 'From stephen.marquard@uct.az.za Sat Jan  5 09:14:16 2008'\n",
    "y = re.findall('^From (\\S+@\\S+)', x)\n",
    "print(y)"
   ]
  },
  {
   "cell_type": "markdown",
   "metadata": {},
   "source": [
    "## 11. [RegEx (3)](https://www.freecodecamp.org/learn/scientific-computing-with-python/python-for-everybody/regular-expressions-practical-applications)\n",
    "\n",
    "### Example 4: \n",
    "`@([^ ]*)`\n",
    "* `@` - after '@' (excluded)\n",
    "* `[^ ]*` - find any number of `non-blank` character"
   ]
  },
  {
   "cell_type": "code",
   "execution_count": 12,
   "metadata": {},
   "outputs": [
    {
     "name": "stdout",
     "output_type": "stream",
     "text": [
      "['uct.az.za']\n"
     ]
    }
   ],
   "source": [
    "x = 'From stephen.marquard@uct.az.za Sat Jan  5 09:14:16 2008'\n",
    "y = re.findall('@([^ ]*)', x)\n",
    "print(y)"
   ]
  },
  {
   "cell_type": "markdown",
   "metadata": {},
   "source": [
    "-----------------\n",
    "\n",
    "### Example 5:\n",
    "\n",
    "`'^From .*@([^ ]*)'`\\\n",
    "* `^From` - string must contain 'From ' at the beginning, followed by\n",
    "* `.*` - any character, followed by\n",
    "* `@` - '@' sign and then\n",
    "* `([^ ])` - extract any non-blank character following the '@' sign"
   ]
  },
  {
   "cell_type": "code",
   "execution_count": 13,
   "metadata": {},
   "outputs": [
    {
     "name": "stdout",
     "output_type": "stream",
     "text": [
      "['uct.az.za']\n"
     ]
    }
   ],
   "source": [
    "x = 'From stephen.marquard@uct.az.za Sat Jan  5 09:14:16 2008'\n",
    "y = re.findall('^From .*@([^ ]*)', x)\n",
    "print(y)"
   ]
  },
  {
   "cell_type": "markdown",
   "metadata": {},
   "source": [
    "-----------------\n",
    "\n",
    "### Example 6: \n",
    "* `\\$` - backslash with a dollar sign searches for a special character "
   ]
  },
  {
   "cell_type": "code",
   "execution_count": 14,
   "metadata": {},
   "outputs": [
    {
     "name": "stdout",
     "output_type": "stream",
     "text": [
      "['$10.00']\n"
     ]
    }
   ],
   "source": [
    "x = 'We just received $10.00 for cookies'\n",
    "y = re.findall('\\$[0-9.]+', x)\n",
    "print(y)"
   ]
  },
  {
   "cell_type": "markdown",
   "metadata": {},
   "source": [
    "## 12. [Networking: Write a Web Browser (1)](https://www.freecodecamp.org/learn/scientific-computing-with-python/python-for-everybody/networking-write-a-web-browser)\n",
    "\n",
    "The following code creates a simple web browser using `socket` library\n",
    "\n",
    "Returns a HTTP Header and HTTP Body"
   ]
  },
  {
   "cell_type": "code",
   "execution_count": 15,
   "metadata": {},
   "outputs": [
    {
     "name": "stdout",
     "output_type": "stream",
     "text": [
      "HTTP/1.1 200 OK\r\n",
      "Date: Sun, 13 Jun 2021 22:08:21 GMT\r\n",
      "Server: Apache/2.4.18 (Ubuntu)\r\n",
      "Last-Modified: Sat, 13 May 2017 11:22:22 GMT\r\n",
      "ETag: \"a7-54f6609245537\"\r\n",
      "Accept-Ranges: bytes\r\n",
      "Content-Length: 167\r\n",
      "Cache-Control: max-age=0, no-cache, no-store, must-revalidate\r\n",
      "Pragma: no-cache\r\n",
      "Expires: Wed, 11 Jan 1984 05:00:00 GMT\r\n",
      "Connection: close\r\n",
      "Content-Type: text/plain\r\n",
      "\r\n",
      "But soft what light through yonder window breaks\n",
      "It is the east and Juliet is the sun\n",
      "Arise fair sun and kill the envious moon\n",
      "Who is already s\n",
      "ick and pale with grief\n",
      "\n"
     ]
    }
   ],
   "source": [
    "import socket\n",
    "\n",
    "# Make the socket\n",
    "mysock = socket.socket(socket.AF_INET, socket.SOCK_STREAM)\n",
    "# Connect to web server\n",
    "mysock.connect(('data.pr4e.org', 80))\n",
    "# Talk to web server with string converted to UTF-8 byte with encoder\n",
    "cmd = 'GET http://data.pr4e.org/romeo.txt HTTP/1.0\\r\\n\\r\\n'.encode()  # required to change the original code: \\n\\n to \\r\\n\\r\\n\n",
    "mysock.send(cmd)\n",
    "\n",
    "# Receive loop\n",
    "while True:\n",
    "    # Receive 512 characters at a time\n",
    "    data = mysock.recv(512)\n",
    "    # If receive 0 characters then it's the end of the stream, connection closed\n",
    "    if (len(data) < 1):\n",
    "        break\n",
    "    # convert byte data to string with decode\n",
    "    print(data.decode())\n",
    "\n",
    "# Close the socket\n",
    "mysock.close()"
   ]
  },
  {
   "cell_type": "markdown",
   "metadata": {},
   "source": [
    "## 12. [Networking: Using urllib in Python (2)](https://www.freecodecamp.org/learn/scientific-computing-with-python/python-for-everybody/networking-using-urllib-in-python)\n",
    "\n",
    "Repeat the same web browser procedure using urllib\n",
    "\n",
    "`urllib` returns an onject which is like a file handler and can be put in `for` clause"
   ]
  },
  {
   "cell_type": "code",
   "execution_count": 16,
   "metadata": {},
   "outputs": [
    {
     "name": "stdout",
     "output_type": "stream",
     "text": [
      "But soft what light through yonder window breaks\n",
      "It is the east and Juliet is the sun\n",
      "Arise fair sun and kill the envious moon\n",
      "Who is already sick and pale with grief\n"
     ]
    }
   ],
   "source": [
    "import urllib.request\n",
    "\n",
    "fhand = urllib.request.urlopen('http://data.pr4e.org/romeo.txt')\n",
    "for line in fhand:\n",
    "    print(line.decode().strip())"
   ]
  },
  {
   "cell_type": "markdown",
   "metadata": {},
   "source": [
    "And because the returned object is like a file it can be treated as a file..."
   ]
  },
  {
   "cell_type": "code",
   "execution_count": 17,
   "metadata": {},
   "outputs": [
    {
     "name": "stdout",
     "output_type": "stream",
     "text": [
      "{'But': 1, 'soft': 1, 'what': 1, 'light': 1, 'through': 1, 'yonder': 1, 'window': 1, 'breaks': 1, 'It': 1, 'is': 3, 'the': 3, 'east': 1, 'and': 3, 'Juliet': 1, 'sun': 2, 'Arise': 1, 'fair': 1, 'kill': 1, 'envious': 1, 'moon': 1, 'Who': 1, 'already': 1, 'sick': 1, 'pale': 1, 'with': 1, 'grief': 1}\n"
     ]
    }
   ],
   "source": [
    "import urllib.request\n",
    "\n",
    "counts = dict()\n",
    "fhand = urllib.request.urlopen('http://data.pr4e.org/romeo.txt')\n",
    "for line in fhand:\n",
    "    words = line.decode().split()\n",
    "    for word in words:\n",
    "        counts[word] = counts.get(word, 0) + 1\n",
    "print(counts)"
   ]
  },
  {
   "cell_type": "markdown",
   "metadata": {},
   "source": [
    "## 12. [Networking: Web Scraping with Python (3)](https://www.freecodecamp.org/learn/scientific-computing-with-python/python-for-everybody/networking-web-scraping-with-python)"
   ]
  },
  {
   "cell_type": "code",
   "execution_count": 18,
   "metadata": {},
   "outputs": [
    {
     "name": "stdout",
     "output_type": "stream",
     "text": [
      "http://www.dr-chuck.com/page2.htm\n"
     ]
    }
   ],
   "source": [
    "import urllib.request\n",
    "from bs4 import BeautifulSoup\n",
    "import ssl\n",
    "\n",
    "# Ignore SSL certificate errors\n",
    "ctx = ssl.create_default_context()\n",
    "ctx.check_hostname = False\n",
    "ctx.verify_mode = ssl.CERT_NONE\n",
    "\n",
    "url = 'http://www.dr-chuck.com/page1.htm'\n",
    "html = urllib.request.urlopen(url, context=ctx).read()\n",
    "soup = BeautifulSoup(html, 'html.parser')\n",
    "\n",
    "# Retrieve all of the anchor tags\n",
    "tags = soup('a')\n",
    "for tag in tags:\n",
    "    print(tag.get('href', None))"
   ]
  },
  {
   "cell_type": "markdown",
   "metadata": {},
   "source": [
    "## 13. [Web Services: XML Schema (1)](https://www.freecodecamp.org/learn/scientific-computing-with-python/python-for-everybody/web-services-xml-schema)\n"
   ]
  },
  {
   "cell_type": "code",
   "execution_count": 19,
   "metadata": {},
   "outputs": [
    {
     "name": "stdout",
     "output_type": "stream",
     "text": [
      "Name: Chuck\n",
      "Attr: yes\n",
      "Phone type: intl\n",
      "Phone text: +1 734 303 4456\n"
     ]
    }
   ],
   "source": [
    "import xml.etree.ElementTree as ET\n",
    "\n",
    "data = '''<person>\n",
    "  <name>Chuck</name>\n",
    "  <phone type=\"intl\">+1 734 303 4456</phone>\n",
    "  <email hide=\"yes\"/>\n",
    "</person>'''\n",
    "\n",
    "# parse a string of data (XML) to create an object which we can query to pull data out \n",
    "tree = ET.fromstring(data)\n",
    "print(f\"Name: {tree.find('name').text}\")\n",
    "print(f\"Attr: {tree.find('email').get('hide')}\")\n",
    "print(f\"Phone type: {tree.find('phone').get('type')}\")\n",
    "print(f\"Phone text: {tree.find('phone').text}\")"
   ]
  },
  {
   "cell_type": "code",
   "execution_count": 20,
   "metadata": {},
   "outputs": [
    {
     "name": "stdout",
     "output_type": "stream",
     "text": [
      "User count: 2\n",
      "Name: Chuck\n",
      "Id: 001\n",
      "Attribute: 2\n",
      "Name: Brent\n",
      "Id: 009\n",
      "Attribute: 7\n"
     ]
    }
   ],
   "source": [
    "import xml.etree.ElementTree as ET\n",
    "\n",
    "input_ = '''<stuff>\n",
    "    <users>\n",
    "        <user x=\"2\">\n",
    "            <id>001</id>\n",
    "            <name>Chuck</name>\n",
    "        </user>\n",
    "        <user x=\"7\">\n",
    "            <id>009</id>\n",
    "            <name>Brent</name>\n",
    "        </user>\n",
    "    </users>\n",
    "</stuff>\n",
    "'''\n",
    "\n",
    "# parse a string of data (XML) to create an object which we can query to pull data out \n",
    "stuff = ET.fromstring(input_)\n",
    "lst = stuff.findall('users/user')\n",
    "\n",
    "print(f\"User count: {len(lst)}\")\n",
    "\n",
    "for item in lst:\n",
    "    print(f\"Name: {item.find('name').text}\")\n",
    "    print(f\"Id: {item.find('id').text}\")\n",
    "    print(f\"Attribute: {item.get('x')}\")"
   ]
  },
  {
   "cell_type": "markdown",
   "metadata": {},
   "source": [
    "## 13. [Web Services - JSON (2)](https://www.freecodecamp.org/learn/scientific-computing-with-python/python-for-everybody/web-services-json)\n"
   ]
  },
  {
   "cell_type": "code",
   "execution_count": 21,
   "metadata": {},
   "outputs": [
    {
     "name": "stdout",
     "output_type": "stream",
     "text": [
      "Name: Chuck\n",
      "Hide: yes\n",
      "Phone text: +1 734 303 4456\n",
      "Phone type: intl\n"
     ]
    }
   ],
   "source": [
    "import json\n",
    "\n",
    "data = '''{\n",
    "    \"name\": \"Chuck\",\n",
    "    \"phone\": {\n",
    "        \"type\": \"intl\",\n",
    "        \"number\": \"+1 734 303 4456\"\n",
    "    },\n",
    "    \"email\": {\n",
    "        \"hide\": \"yes\"\n",
    "    }\n",
    "}'''\n",
    "\n",
    "info = json.loads(data)  # loads -> load from string\n",
    "print(f\"Name: {info['name']}\")\n",
    "print(f\"Hide: {info['email']['hide']}\")\n",
    "print(f\"Phone text: {info['phone']['number']}\")\n",
    "print(f\"Phone type: {info['phone']['type']}\")"
   ]
  },
  {
   "cell_type": "code",
   "execution_count": 22,
   "metadata": {},
   "outputs": [
    {
     "name": "stdout",
     "output_type": "stream",
     "text": [
      "User count: 2\n",
      "Name: Chuck\n",
      "Id 001\n",
      "Attribute: 2\n",
      "Name: Brent\n",
      "Id 009\n",
      "Attribute: 7\n"
     ]
    }
   ],
   "source": [
    "import json\n",
    "\n",
    "input_ = '''[\n",
    "    {\n",
    "    \"id\": \"001\",\n",
    "    \"x\": \"2\",\n",
    "    \"name\": \"Chuck\"\n",
    "    }, \n",
    "    {\n",
    "    \"id\": \"009\",\n",
    "    \"x\": \"7\",\n",
    "    \"name\": \"Brent\"\n",
    "    }\n",
    "]'''\n",
    "\n",
    "info = json.loads(input_)\n",
    "print(f\"User count: {len(info)}\")\n",
    "for item in info:\n",
    "    print(f\"Name: {item['name']}\")\n",
    "    print(f\"Id {item['id']}\")\n",
    "    print(f\"Attribute: {item['x']}\")"
   ]
  },
  {
   "cell_type": "markdown",
   "metadata": {},
   "source": [
    "## 13. [Web Services: APIs (3)](https://www.freecodecamp.org/learn/scientific-computing-with-python/python-for-everybody/web-services-apis)\n",
    "\n",
    "The below is a sample code to connect with Google Maps API and retrieve data for specified location. \\\n",
    "The intention was to print latitude and longitude for any provided location. \\\n",
    "Since Google changed it's terms and condisions this is no longer available without a Google Cloud account. \\\n",
    "The code instead prints the error message. \\\n",
    "An example output is provided further below. \n",
    "\n",
    "This request denied status is explained in the following section."
   ]
  },
  {
   "cell_type": "code",
   "execution_count": 23,
   "metadata": {},
   "outputs": [
    {
     "name": "stdout",
     "output_type": "stream",
     "text": [
      "Enter location: Warrington\n",
      "Retrieving: http://maps.googleapis.com/maps/api/geocode/json?address=Warrington\n",
      "Retrieved: 237, characters\n",
      "==== Failure To Retrieve ====\n",
      "{\n",
      "   \"error_message\" : \"You must use an API key to authenticate each request to Google Maps Platform APIs. For additional information, please refer to http://g.co/dev/maps-no-account\",\n",
      "   \"results\" : [],\n",
      "   \"status\" : \"REQUEST_DENIED\"\n",
      "}\n",
      "\n",
      "Enter location: \n"
     ]
    }
   ],
   "source": [
    "import urllib.request, urllib.parse, urllib.error\n",
    "import json\n",
    "\n",
    "serviceurl = 'http://maps.googleapis.com/maps/api/geocode/json?'\n",
    "\n",
    "while True:\n",
    "    address = input('Enter location: ')\n",
    "    if len(address) < 1: break\n",
    "        \n",
    "    url = serviceurl + urllib.parse.urlencode({'address': address})\n",
    "    print(f\"Retrieving: {url}\")\n",
    "    \n",
    "    uh = urllib.request.urlopen(url)\n",
    "    data = uh.read().decode()\n",
    "    print(f\"Retrieved: {len(data)}, characters\")\n",
    "    \n",
    "    try:\n",
    "        js = json.loads(data)\n",
    "    except:\n",
    "        js = None\n",
    "    \n",
    "    if not js or 'status' not in js or js['status'] != 'OK':\n",
    "        print(\"==== Failure To Retrieve ====\")\n",
    "        print(data)\n",
    "        continue\n",
    "    \n",
    "    lat = js[\"results\"][0][\"geometry\"][\"location\"][\"lat\"]\n",
    "    lng = js[\"results\"][0][\"geometry\"][\"location\"][\"lng\"]\n",
    "    print(f'lat: {lat}, lng: {lng}')\n",
    "    location = js['results'][0]['formatted_address']\n",
    "    print(location)"
   ]
  },
  {
   "cell_type": "markdown",
   "metadata": {},
   "source": [
    "--------------------------------------\n",
    "\n",
    "#### Example output from service"
   ]
  },
  {
   "cell_type": "code",
   "execution_count": 24,
   "metadata": {},
   "outputs": [],
   "source": [
    "maps = '''{\n",
    "    \"status\" : \"OK\",\n",
    "    \"results\": [\n",
    "        {\n",
    "            \"geometry\": {\n",
    "                \"location_type\": \"APPROXIMATE\",\n",
    "                \"location\": {\n",
    "                    \"lat\": 42.2808256,\n",
    "                    \"lng\": -83.7430378\n",
    "                }\n",
    "            },\n",
    "            \"address_components\": [\n",
    "                {\n",
    "                    \"long_name\": \"Ann Arbor\",\n",
    "                    \"types\": [\n",
    "                        \"locality\",\n",
    "                        \"political\"\n",
    "                    ],\n",
    "                    \"short_name\": \"Ann Arbor\"\n",
    "                }\n",
    "            ],\n",
    "            \"formatted_address\": \"Ann Adbor, MI, USA\",\n",
    "            \"types\": [\n",
    "                \"locality\",\n",
    "                \"political\"\n",
    "            ]\n",
    "        }\n",
    "    ]\n",
    "}'''"
   ]
  },
  {
   "cell_type": "code",
   "execution_count": 25,
   "metadata": {},
   "outputs": [
    {
     "name": "stdout",
     "output_type": "stream",
     "text": [
      "Retrieved: 735, characters\n",
      "OK\n",
      "lat: 42.2808256, lng: -83.7430378\n",
      "Ann Adbor, MI, USA\n"
     ]
    }
   ],
   "source": [
    "import json\n",
    "\n",
    "data = maps\n",
    "print(f\"Retrieved: {len(data)}, characters\")\n",
    "\n",
    "try:\n",
    "    js = json.loads(data)\n",
    "    print('OK')\n",
    "except:\n",
    "    js = None\n",
    "\n",
    "if not js or 'status' not in js or js['status'] != 'OK':\n",
    "    print(\"==== Failure To Retrieve ====\")\n",
    "    print(data)\n",
    "\n",
    "if js['status'] == 'OK':\n",
    "    lat = js[\"results\"][0][\"geometry\"][\"location\"][\"lat\"]\n",
    "    lng = js[\"results\"][0][\"geometry\"][\"location\"][\"lng\"]\n",
    "    print(f'lat: {lat}, lng: {lng}')\n",
    "    location = js['results'][0]['formatted_address']\n",
    "    print(location)"
   ]
  },
  {
   "cell_type": "markdown",
   "metadata": {},
   "source": [
    "## 13. [Web Services: API Rate Limiting and Security (4)](https://www.freecodecamp.org/learn/scientific-computing-with-python/python-for-everybody/web-services-api-rate-limiting-and-security)\n",
    "\n",
    "* The compute resources to run these APIs are not \"free\"\n",
    "* The data provided by these APIs is usually valuable\n",
    "* The data providers might limit the number of requests per day, demand an API \"key\", or even charge for usage\n",
    "* They might change the rules as things progress..."
   ]
  },
  {
   "cell_type": "code",
   "execution_count": null,
   "metadata": {},
   "outputs": [],
   "source": []
  }
 ],
 "metadata": {
  "kernelspec": {
   "display_name": "Python 3",
   "language": "python",
   "name": "python3"
  },
  "language_info": {
   "codemirror_mode": {
    "name": "ipython",
    "version": 3
   },
   "file_extension": ".py",
   "mimetype": "text/x-python",
   "name": "python",
   "nbconvert_exporter": "python",
   "pygments_lexer": "ipython3",
   "version": "3.9.5"
  }
 },
 "nbformat": 4,
 "nbformat_minor": 4
}
